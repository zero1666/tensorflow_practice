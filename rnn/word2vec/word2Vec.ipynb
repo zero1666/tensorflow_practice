{
 "cells": [
  {
   "cell_type": "markdown",
   "metadata": {
    "deletable": true,
    "editable": true
   },
   "source": [
    "# Word2Vec(Skip-Gram mode)"
   ]
  },
  {
   "cell_type": "code",
   "execution_count": 1,
   "metadata": {
    "collapsed": false,
    "deletable": true,
    "editable": true
   },
   "outputs": [],
   "source": [
    "import collections\n",
    "import math\n",
    "import os\n",
    "import random\n",
    "import zipfile\n",
    "import urllib.request\n",
    "import numpy as np\n",
    "import tensorflow as tf"
   ]
  },
  {
   "cell_type": "markdown",
   "metadata": {
    "deletable": true,
    "editable": true
   },
   "source": [
    "### 1. 下载文本数据"
   ]
  },
  {
   "cell_type": "code",
   "execution_count": 2,
   "metadata": {
    "collapsed": true,
    "deletable": true,
    "editable": true
   },
   "outputs": [],
   "source": [
    "url = \"http://mattmahoney.net/dc/\"\n",
    "\n",
    "def maybe_download(filename, expected_bytes):\n",
    "    if not os.path.exists(filename) :\n",
    "        filename, _ = urllib.request.urlretrieve(url+filename, filename)\n",
    "    statinfo = os.stat(filename)\n",
    "    if statinfo.st_size == expected_bytes:\n",
    "        print(\"found and verified\", filename)\n",
    "    else:\n",
    "        print(statinfo.st_size)\n",
    "        raise Exception(\"Failed to verify\" +  filename + '. Can you get to it with a browser?')\n",
    "    return filename"
   ]
  },
  {
   "cell_type": "code",
   "execution_count": 3,
   "metadata": {
    "collapsed": false,
    "deletable": true,
    "editable": true
   },
   "outputs": [
    {
     "name": "stdout",
     "output_type": "stream",
     "text": [
      "found and verified text8.zip\n"
     ]
    }
   ],
   "source": [
    "filename = maybe_download(\"text8.zip\", 31344016)"
   ]
  },
  {
   "cell_type": "code",
   "execution_count": 4,
   "metadata": {
    "collapsed": true,
    "deletable": true,
    "editable": true
   },
   "outputs": [],
   "source": [
    "def read_data(filename):\n",
    "    with zipfile.ZipFile(filename) as f:\n",
    "        data = tf.compat.as_str(f.read(f.namelist()[0])).split()\n",
    "    return data"
   ]
  },
  {
   "cell_type": "code",
   "execution_count": 5,
   "metadata": {
    "collapsed": false,
    "deletable": true,
    "editable": true
   },
   "outputs": [
    {
     "name": "stdout",
     "output_type": "stream",
     "text": [
      "Data Size:  17005207\n"
     ]
    }
   ],
   "source": [
    "words = read_data(filename)\n",
    "print('Data Size: ',len(words))"
   ]
  },
  {
   "cell_type": "code",
   "execution_count": 6,
   "metadata": {
    "collapsed": false,
    "deletable": true,
    "editable": true
   },
   "outputs": [],
   "source": [
    "vocabulary_size = 50000\n",
    "\n",
    "def build_dataset(words):\n",
    "    count = [['UNK', -1]]\n",
    "    count.extend(collections.Counter(words).most_common(vocabulary_size-1))\n",
    "    dictionary = dict()\n",
    "    for word, _ in count:\n",
    "        dictionary[word] = len(dictionary)\n",
    "    data = list()\n",
    "    unk_count = 0\n",
    "    for word in words:\n",
    "        if word in dictionary:\n",
    "            index = dictionary[word]\n",
    "        else:\n",
    "            index = 0\n",
    "            unk_count += 1\n",
    "        data.append(index)\n",
    "    count[0][1] = unk_count\n",
    "    reverse_dictionary = dict(zip(dictionary.values(), dictionary.keys()))\n",
    "    return data, count,  dictionary, reverse_dictionary, "
   ]
  },
  {
   "cell_type": "code",
   "execution_count": 7,
   "metadata": {
    "collapsed": false,
    "deletable": true,
    "editable": true
   },
   "outputs": [],
   "source": [
    "data, count, dictionary, reverse_dictionary = build_dataset(words)\n"
   ]
  },
  {
   "cell_type": "code",
   "execution_count": 8,
   "metadata": {
    "collapsed": false,
    "deletable": true,
    "editable": true
   },
   "outputs": [
    {
     "name": "stdout",
     "output_type": "stream",
     "text": [
      "Most common words (+UNK)  [['UNK', 418391], ('the', 1061396), ('of', 593677), ('and', 416629), ('one', 411764)]\n",
      "Sample data [5238, 3084, 12, 6, 195, 2, 3137, 46, 59, 156] ['anarchism', 'originated', 'as', 'a', 'term', 'of', 'abuse', 'first', 'used', 'against']\n"
     ]
    }
   ],
   "source": [
    "del words\n",
    "print('Most common words (+UNK) ', count[:5])\n",
    "print('Sample data', data[:10], [reverse_dictionary[i] for i in data[:10]])"
   ]
  },
  {
   "cell_type": "markdown",
   "metadata": {
    "deletable": true,
    "editable": true
   },
   "source": [
    "生成训练样本，label"
   ]
  },
  {
   "cell_type": "code",
   "execution_count": 9,
   "metadata": {
    "collapsed": false,
    "deletable": true,
    "editable": true
   },
   "outputs": [],
   "source": [
    "data_index = 0\n",
    "\n",
    "def generate_batch(batch_size, num_skip, skip_window):\n",
    "    global data_index\n",
    "    assert batch_size%num_skip ==  0\n",
    "    assert num_skip <= 2*skip_window\n",
    "    batch = np.ndarray(shape=[batch_size], dtype=np.int32)\n",
    "    labels = np.ndarray(shape=[batch_size, 1], dtype=np.int32)\n",
    "    span = 2*skip_window+1\n",
    "    buffer = collections.deque(maxlen=span)\n",
    "    \n",
    "    for _ in range(span):\n",
    "        buffer.append(data[data_index])\n",
    "        data_index = (data_index+1)%len(data)\n",
    "    for i in range(batch_size//num_skip):\n",
    "        target = skip_window\n",
    "        targets_to_avoid = [skip_window ]\n",
    "        for  j in range(num_skip):\n",
    "            while target in targets_to_avoid:\n",
    "                target = random.randint(0, span -1)\n",
    "            targets_to_avoid.append(target)\n",
    "            batch[i*num_skip +j] = buffer[skip_window]\n",
    "            labels[i*num_skip +j] = buffer[target]\n",
    "        buffer.append(data[data_index])\n",
    "        data_index = (data_index+1)%len(data)\n",
    "    return batch, labels"
   ]
  },
  {
   "cell_type": "code",
   "execution_count": 10,
   "metadata": {
    "collapsed": false,
    "deletable": true,
    "editable": true
   },
   "outputs": [
    {
     "name": "stdout",
     "output_type": "stream",
     "text": [
      "3084 originated --> 5238 anarchism\n",
      "3084 originated --> 12 as\n",
      "12 as --> 3084 originated\n",
      "12 as --> 6 a\n",
      "6 a --> 12 as\n",
      "6 a --> 195 term\n",
      "195 term --> 2 of\n",
      "195 term --> 6 a\n"
     ]
    }
   ],
   "source": [
    "batch, labels = generate_batch(batch_size=8, num_skip=2, skip_window=1)\n",
    "for i in range(8):\n",
    "    print(batch[i], reverse_dictionary[batch[i]], '-->', labels[i, 0], reverse_dictionary[labels[i, 0]])"
   ]
  },
  {
   "cell_type": "markdown",
   "metadata": {
    "deletable": true,
    "editable": true
   },
   "source": [
    "参数初始化"
   ]
  },
  {
   "cell_type": "code",
   "execution_count": 11,
   "metadata": {
    "collapsed": true,
    "deletable": true,
    "editable": true
   },
   "outputs": [],
   "source": [
    "batch_size = 128\n",
    "embedding_size = 128\n",
    "skip_window = 1\n",
    "num_skips  = 2\n",
    "\n",
    "valid_size = 16\n",
    "valid_window = 100\n",
    "valid_example =  np.random.choice(valid_window, valid_size, replace=False)\n",
    "num_sampled = 64"
   ]
  },
  {
   "cell_type": "markdown",
   "metadata": {
    "deletable": true,
    "editable": true
   },
   "source": [
    "定义 Skip-Gram Word2Vec 模型的网络结构"
   ]
  },
  {
   "cell_type": "code",
   "execution_count": 12,
   "metadata": {
    "collapsed": false,
    "deletable": true,
    "editable": true
   },
   "outputs": [],
   "source": [
    "graph = tf.Graph()\n",
    "with graph.as_default() :\n",
    "    train_inputs = tf.placeholder(tf.int32, shape=[batch_size])\n",
    "    train_labels = tf.placeholder(tf.int32, shape=[batch_size, 1])\n",
    "    valid_dataset = tf.constant(valid_example, dtype=tf.int32)\n",
    "    \n",
    "    with tf.device('/cpu:0'):\n",
    "        embeddings = tf.Variable(tf.random_uniform([vocabulary_size, embedding_size], -1.0, 1.0))\n",
    "        embed = tf.nn.embedding_lookup(embeddings, train_inputs)\n",
    "        \n",
    "        nce_weights = tf.Variable(tf.truncated_normal([vocabulary_size, embedding_size], stddev=1.0/math.sqrt(embedding_size)))\n",
    "        nce_biases = tf.Variable(tf.zeros([vocabulary_size]))\n",
    "        \n",
    "    loss = tf.reduce_mean(tf.nn.nce_loss(weights=nce_weights, biases=nce_biases, labels=train_labels,\n",
    "                                         inputs=embed, num_sampled=num_sampled, num_classes=vocabulary_size))\n",
    "    \n",
    "    optimizer = tf.train.GradientDescentOptimizer(1.0).minimize(loss)\n",
    "    norm = tf.sqrt(tf.reduce_sum(tf.square(embeddings), 1, keep_dims=True))\n",
    "    normalized_embeddings = embeddings/norm\n",
    "    valid_embeddings = tf.nn.embedding_lookup(normalized_embeddings,  valid_dataset)\n",
    "    similarity = tf.matmul(valid_embeddings, normalized_embeddings, transpose_b=True)\n",
    "    init = tf.global_variables_initializer()"
   ]
  },
  {
   "cell_type": "code",
   "execution_count": 13,
   "metadata": {
    "collapsed": false,
    "deletable": true,
    "editable": true,
    "scrolled": true
   },
   "outputs": [
    {
     "name": "stdout",
     "output_type": "stream",
     "text": [
      "Initialized\n",
      "Average loss at step  0 :  297.073730469\n",
      "Nearest to that: lajos, feature, sfsr, jumbo, loosely, yeo, chickasaw, townsfolk,\n",
      "Nearest to with: originator, connell, rating, cady, horner, gdynia, volt, grimoires,\n",
      "Nearest to had: moldavia, material, safavids, corvinus, interludes, strength, farmers, totoro,\n",
      "Nearest to they: nurse, bagpuss, bacall, dissenting, imaginable, havenco, grade, spherical,\n",
      "Nearest to use: exhibiting, pravda, advisory, tori, dvorak, grue, sponsors, lgpl,\n",
      "Nearest to nine: slates, seas, weiner, riigikogu, gammu, heraclius, palau, sensitive,\n",
      "Nearest to who: inaccessible, interplay, cantus, yorke, anatomically, shehhi, sine, health,\n",
      "Nearest to not: psychologist, ara, dumplings, composites, bones, interactions, polymaths, males,\n",
      "Nearest to on: schematic, strictness, imposes, bau, cmmi, alde, levelling, czarist,\n",
      "Nearest to than: glossaries, sauce, ganga, longue, partnering, norms, redirect, guatemala,\n",
      "Nearest to system: baked, confess, conducive, subarctic, pipelined, emile, author, aegean,\n",
      "Nearest to also: lepers, scientific, lian, fortifications, ovary, millard, aiken, fredric,\n",
      "Nearest to or: oxley, valerie, equivocal, nihonshoki, emerge, knight, shiva, pathology,\n",
      "Nearest to have: incendiary, canis, amalgamation, darius, compressor, jake, cay, hussars,\n",
      "Nearest to used: cheerleading, hipparchus, preacher, samael, bottle, lamentations, litovsk, deconstruction,\n",
      "Nearest to so: ballad, dislocation, limiting, internationalism, varphi, materialised, baresi, haughey,\n",
      "Average loss at step  2000 :  114.11444918\n",
      "Average loss at step  4000 :  52.5302215135\n",
      "Average loss at step  6000 :  33.3353989608\n",
      "Average loss at step  8000 :  23.3157845536\n",
      "Average loss at step  10000 :  18.0428013955\n",
      "Nearest to that: and, hence, it, stranger, morning, sources, orwell, ships,\n",
      "Nearest to with: in, and, of, reginae, for, suggests, is, algorithms,\n",
      "Nearest to had: was, material, is, aim, newspapers, austin, formulas, turning,\n",
      "Nearest to they: nurse, founder, grade, did, braille, but, he, fuego,\n",
      "Nearest to use: moon, phi, pravda, sod, function, statesman, stone, series,\n",
      "Nearest to nine: zero, phi, austin, reginae, victoriae, mathbf, eight, vs,\n",
      "Nearest to who: melody, inaccessible, phyla, health, secrets, developers, validated, evidence,\n",
      "Nearest to not: argentina, salad, cc, phi, psychologist, psi, barrier, coming,\n",
      "Nearest to on: in, and, of, or, understood, altenberg, descendant, eras,\n",
      "Nearest to than: glossaries, nine, operations, norms, roper, turbo, qutb, by,\n",
      "Nearest to system: author, conducive, aegean, baked, confess, acids, fleeing, consisting,\n",
      "Nearest to also: cornerback, scientific, started, ovary, campaigns, boxing, badge, he,\n",
      "Nearest to or: and, reginae, hours, of, purchased, the, austin, emerge,\n",
      "Nearest to have: darius, be, swiss, bearing, cc, male, agave, plum,\n",
      "Nearest to used: phi, bottle, austin, agave, victoriae, she, psi, put,\n",
      "Nearest to so: limiting, champions, remarkable, escape, massive, desire, capitalised, describes,\n",
      "Average loss at step  12000 :  13.8424202349\n",
      "Average loss at step  14000 :  11.7187131404\n",
      "Average loss at step  16000 :  9.91910032308\n",
      "Average loss at step  18000 :  8.7229082967\n",
      "Average loss at step  20000 :  7.89970253515\n",
      "Nearest to that: it, aquila, but, stranger, which, incompressible, hence, and,\n",
      "Nearest to with: in, for, and, by, of, reginae, is, aquila,\n",
      "Nearest to had: was, is, were, has, are, by, as, material,\n",
      "Nearest to they: he, it, nurse, there, but, who, did, kalashnikov,\n",
      "Nearest to use: exhibiting, sod, pravda, statesman, moon, clergy, bills, phi,\n",
      "Nearest to nine: eight, seven, six, zero, four, three, phi, five,\n",
      "Nearest to who: which, he, that, melody, and, they, asa, phyla,\n",
      "Nearest to not: salad, cc, it, amigaone, psychologist, phi, argentina, sake,\n",
      "Nearest to on: in, and, for, two, with, into, of, aquila,\n",
      "Nearest to than: glossaries, nine, operations, are, norms, roper, aquila, turbo,\n",
      "Nearest to system: conducive, aquila, aegean, author, baked, germanicus, confess, emile,\n",
      "Nearest to also: cornerback, which, once, he, UNK, campaigns, and, that,\n",
      "Nearest to or: and, zero, reginae, three, annales, eight, hours, six,\n",
      "Nearest to have: be, darius, are, were, bearing, had, has, and,\n",
      "Nearest to used: bottle, amino, agouti, preacher, phi, hipparchus, variation, agave,\n",
      "Nearest to so: limiting, champions, cochran, fertilizers, remarkable, UNK, massive, versions,\n",
      "Average loss at step  22000 :  7.23214971995\n",
      "Average loss at step  24000 :  6.94506365561\n",
      "Average loss at step  26000 :  6.67396439636\n",
      "Average loss at step  28000 :  6.18869719017\n",
      "Average loss at step  30000 :  6.18865289485\n",
      "Nearest to that: which, it, but, aquila, hence, when, morning, akita,\n",
      "Nearest to with: in, by, and, for, reginae, aquila, is, to,\n",
      "Nearest to had: was, has, have, were, is, are, primigenius, by,\n",
      "Nearest to they: he, there, it, who, nurse, not, but, you,\n",
      "Nearest to use: sponsors, bills, exhibiting, trinomial, clergy, statesman, sod, lean,\n",
      "Nearest to nine: eight, seven, six, four, five, three, zero, phi,\n",
      "Nearest to who: which, he, they, and, asa, melody, that, phyla,\n",
      "Nearest to not: it, almighty, to, cc, salad, they, also, amigaone,\n",
      "Nearest to on: in, for, and, into, two, ansgar, with, from,\n",
      "Nearest to than: glossaries, norms, nine, operations, are, or, longue, roper,\n",
      "Nearest to system: conducive, abitibi, aquila, baked, aegean, emile, confess, trinomial,\n",
      "Nearest to also: which, cornerback, once, will, campaigns, that, not, it,\n",
      "Nearest to or: and, reginae, abet, annales, five, primigenius, eight, aquila,\n",
      "Nearest to have: be, are, had, were, has, darius, primigenius, bearing,\n",
      "Nearest to used: bottle, preacher, akita, hipparchus, agouti, put, agreeing, phi,\n",
      "Nearest to so: cochran, limiting, baresi, fertilizers, varphi, UNK, primigenius, champions,\n",
      "Average loss at step  32000 :  5.85862031913\n",
      "Average loss at step  34000 :  5.87567117286\n",
      "Average loss at step  36000 :  5.66469719219\n",
      "Average loss at step  38000 :  5.2814392916\n",
      "Average loss at step  40000 :  5.42921851099\n",
      "Nearest to that: which, this, it, aquila, but, akita, recitative, hence,\n",
      "Nearest to with: and, in, reginae, by, aquila, on, for, from,\n",
      "Nearest to had: was, has, have, were, are, primigenius, is, mitanni,\n",
      "Nearest to they: he, there, it, who, you, not, we, she,\n",
      "Nearest to use: sponsors, trinomial, bills, abet, clergy, phi, lean, statesman,\n",
      "Nearest to nine: eight, seven, six, zero, five, four, three, phi,\n",
      "Nearest to who: which, he, they, that, and, asa, also, phyla,\n",
      "Nearest to not: it, also, cc, they, to, almighty, salad, recitative,\n",
      "Nearest to on: in, with, for, ansgar, into, from, and, aquila,\n",
      "Nearest to than: glossaries, or, nine, norms, ketuvim, eight, guatemala, microseconds,\n",
      "Nearest to system: conducive, abitibi, aquila, emile, trinomial, baked, aegean, germanicus,\n",
      "Nearest to also: which, albury, that, not, it, never, once, locust,\n",
      "Nearest to or: and, eight, four, reginae, abet, recitative, annales, aquila,\n",
      "Nearest to have: be, are, had, has, were, darius, primigenius, bearing,\n",
      "Nearest to used: akita, bottle, put, agouti, preacher, phi, hipparchus, agreeing,\n",
      "Nearest to so: cochran, fertilizers, baresi, limiting, varphi, schliemann, primigenius, retrofitted,\n",
      "Average loss at step  42000 :  5.29663289893\n",
      "Average loss at step  44000 :  5.27341686559\n",
      "Average loss at step  46000 :  5.27505420685\n",
      "Average loss at step  48000 :  5.05258585525\n",
      "Average loss at step  50000 :  5.13894275069\n",
      "Nearest to that: which, but, this, aquila, however, hence, recitative, akita,\n",
      "Nearest to with: and, in, by, reginae, between, prism, aarhus, aquila,\n",
      "Nearest to had: has, was, have, were, primigenius, is, by, are,\n",
      "Nearest to they: he, there, you, it, we, who, not, she,\n",
      "Nearest to use: sponsors, trinomial, bills, clergy, lean, sod, abet, phi,\n",
      "Nearest to nine: eight, seven, six, zero, four, five, three, phi,\n",
      "Nearest to who: which, he, they, also, and, asa, that, accusation,\n",
      "Nearest to not: it, they, also, cc, almighty, you, often, to,\n",
      "Nearest to on: in, for, at, into, from, ansgar, with, and,\n",
      "Nearest to than: or, glossaries, nine, ketuvim, norms, microseconds, guatemala, longue,\n",
      "Nearest to system: conducive, abitibi, emile, lose, aimed, fleeing, germanicus, baud,\n",
      "Nearest to also: which, albury, locust, not, sometimes, never, who, often,\n",
      "Nearest to or: and, recitative, abet, reginae, five, eight, annales, aquila,\n",
      "Nearest to have: had, has, be, are, were, primigenius, darius, bearing,\n",
      "Nearest to used: akita, bottle, put, preacher, agouti, hipparchus, sampling, nguni,\n",
      "Nearest to so: cochran, fertilizers, baresi, varphi, limiting, primigenius, solicitation, describes,\n",
      "Average loss at step  52000 :  5.18348388195\n",
      "Average loss at step  54000 :  5.10519629037\n",
      "Average loss at step  56000 :  5.03134192848\n",
      "Average loss at step  58000 :  5.09199183571\n",
      "Average loss at step  60000 :  4.937553868\n",
      "Nearest to that: which, this, but, aquila, however, microcebus, hence, akita,\n",
      "Nearest to with: by, in, between, callithrix, and, microcebus, reginae, on,\n",
      "Nearest to had: has, have, was, were, callithrix, primigenius, abet, mitanni,\n",
      "Nearest to they: he, there, you, we, it, not, who, she,\n",
      "Nearest to use: sponsors, trinomial, bills, clergy, sod, lean, abet, thibetanus,\n",
      "Nearest to nine: eight, six, seven, four, five, zero, three, callithrix,\n",
      "Nearest to who: he, which, they, also, callithrix, that, accusation, and,\n",
      "Nearest to not: they, to, it, you, cc, also, almighty, salad,\n",
      "Nearest to on: in, callithrix, into, at, and, for, ansgar, microcebus,\n",
      "Nearest to than: or, glossaries, wct, ketuvim, norms, and, microseconds, longue,\n",
      "Nearest to system: conducive, abitibi, emile, subarctic, trinomial, aimed, lose, aquila,\n",
      "Nearest to also: which, albury, locust, sometimes, never, often, cebus, now,\n",
      "Nearest to or: and, callithrix, microcebus, abet, cebus, recitative, four, five,\n",
      "Nearest to have: had, has, are, were, be, primigenius, pulau, mitanni,\n",
      "Nearest to used: akita, put, bottle, agouti, sampling, preacher, nguni, held,\n",
      "Nearest to so: microsite, cochran, fertilizers, baresi, varphi, memorials, primigenius, retrofitted,\n",
      "Average loss at step  62000 :  4.78703038073\n",
      "Average loss at step  64000 :  4.80821708137\n",
      "Average loss at step  66000 :  4.98368541336\n",
      "Average loss at step  68000 :  4.91362445104\n",
      "Average loss at step  70000 :  4.7717546128\n",
      "Nearest to that: which, this, but, however, aquila, akita, microcebus, what,\n",
      "Nearest to with: between, callithrix, reginae, by, in, microcebus, and, aarhus,\n",
      "Nearest to had: has, have, was, were, callithrix, mitanni, primigenius, is,\n",
      "Nearest to they: he, there, we, you, it, she, who, not,\n",
      "Nearest to use: sponsors, trinomial, thaler, sod, clergy, bills, lean, abet,\n",
      "Nearest to nine: eight, seven, six, five, zero, four, three, callithrix,\n",
      "Nearest to who: he, which, they, that, callithrix, also, accusation, there,\n",
      "Nearest to not: they, cc, almighty, often, also, you, sometimes, it,\n",
      "Nearest to on: in, callithrix, into, ansgar, and, from, at, msg,\n",
      "Nearest to than: or, wct, glossaries, upanija, and, ketuvim, clo, microseconds,\n",
      "Nearest to system: conducive, abitibi, emile, aimed, lose, subarctic, trinomial, abbess,\n",
      "Nearest to also: which, often, sometimes, locust, never, now, albury, still,\n",
      "Nearest to or: and, callithrix, abet, cebus, microcebus, recitative, microsite, annales,\n",
      "Nearest to have: had, has, were, are, be, primigenius, upanija, randle,\n",
      "Nearest to used: akita, put, agouti, known, sampling, austin, preacher, nguni,\n",
      "Nearest to so: microsite, cochran, baresi, memorials, fertilizers, UNK, vinny, thaler,\n",
      "Average loss at step  72000 :  4.80434344804\n",
      "Average loss at step  74000 :  4.77125704163\n",
      "Average loss at step  76000 :  4.88454242861\n",
      "Average loss at step  78000 :  4.78330036056\n",
      "Average loss at step  80000 :  4.82160536838\n",
      "Nearest to that: which, however, this, but, what, hence, aquila, microcebus,\n",
      "Nearest to with: between, in, reginae, callithrix, by, and, pontificia, microcebus,\n",
      "Nearest to had: has, have, was, were, callithrix, mitanni, been, by,\n",
      "Nearest to they: he, we, there, you, she, it, who, not,\n",
      "Nearest to use: sponsors, trinomial, thaler, stf, sod, clergy, abet, bills,\n",
      "Nearest to nine: eight, seven, five, six, four, zero, three, callithrix,\n",
      "Nearest to who: he, which, they, there, also, callithrix, she, often,\n",
      "Nearest to not: they, it, often, cc, you, almighty, usually, sometimes,\n",
      "Nearest to on: in, at, ansgar, two, callithrix, upon, livingstone, against,\n",
      "Nearest to than: or, wct, upanija, glossaries, and, microseconds, orchestral, clo,\n",
      "Nearest to system: conducive, abitibi, emile, aimed, lose, trinomial, isu, cell,\n",
      "Nearest to also: which, often, sometimes, never, now, locust, still, it,\n",
      "Nearest to or: and, callithrix, cebus, abet, microcebus, recitative, reginae, than,\n",
      "Nearest to have: had, has, were, are, be, primigenius, randle, upanija,\n",
      "Nearest to used: akita, known, barberini, agouti, sampling, nguni, put, preacher,\n",
      "Nearest to so: microsite, memorials, cochran, thaler, fertilizers, vinny, baresi, demonstrated,\n",
      "Average loss at step  82000 :  4.81012625527\n",
      "Average loss at step  84000 :  4.79714995277\n",
      "Average loss at step  86000 :  4.7928973465\n",
      "Average loss at step  88000 :  4.67820429325\n",
      "Average loss at step  90000 :  4.7623601687\n",
      "Nearest to that: which, however, but, this, what, aquila, akita, microcebus,\n",
      "Nearest to with: between, reginae, in, callithrix, microcebus, or, aarhus, by,\n",
      "Nearest to had: has, have, was, were, callithrix, been, mitanni, having,\n",
      "Nearest to they: he, we, there, you, she, it, who, not,\n",
      "Nearest to use: sponsors, trinomial, thaler, stf, clergy, sod, abet, bills,\n",
      "Nearest to nine: eight, seven, five, six, four, zero, callithrix, three,\n",
      "Nearest to who: he, which, they, that, she, often, callithrix, also,\n",
      "Nearest to not: they, cc, often, almighty, it, usually, also, you,\n",
      "Nearest to on: in, at, cmmi, upon, callithrix, ansgar, into, under,\n",
      "Nearest to than: or, wct, upanija, glossaries, and, orchestral, microseconds, nine,\n",
      "Nearest to system: abitibi, conducive, trinomial, isu, aimed, emile, microcebus, aquila,\n",
      "Nearest to also: which, often, sometimes, now, still, never, commonly, locust,\n",
      "Nearest to or: and, callithrix, cebus, reginae, otimes, microcebus, abet, recitative,\n",
      "Nearest to have: had, has, were, are, be, primigenius, randle, upanija,\n",
      "Nearest to used: known, akita, barberini, sampling, agouti, nguni, put, austin,\n",
      "Nearest to so: microsite, baresi, memorials, vinny, cochran, fertilizers, demonstrated, thaler,\n",
      "Average loss at step  92000 :  4.71426427758\n",
      "Average loss at step  94000 :  4.62538646007\n",
      "Average loss at step  96000 :  4.73010834861\n",
      "Average loss at step  98000 :  4.62739284337\n",
      "Average loss at step  100000 :  4.67705544853\n",
      "Nearest to that: which, however, but, what, this, akita, aquila, microcebus,\n",
      "Nearest to with: between, reginae, in, callithrix, microcebus, aarhus, by, pontificia,\n",
      "Nearest to had: has, have, was, were, callithrix, having, mitanni, been,\n",
      "Nearest to they: he, we, there, you, she, it, not, who,\n",
      "Nearest to use: sponsors, trinomial, thaler, stf, clergy, bills, aquila, sod,\n",
      "Nearest to nine: eight, seven, six, five, four, zero, three, callithrix,\n",
      "Nearest to who: he, which, they, she, also, often, that, accusation,\n",
      "Nearest to not: they, cc, usually, often, still, almighty, it, nvidia,\n",
      "Nearest to on: in, at, upon, cmmi, ansgar, livingstone, callithrix, into,\n",
      "Nearest to than: or, and, wct, upanija, bachman, microseconds, glossaries, orchestral,\n",
      "Nearest to system: conducive, abitibi, emile, aimed, isu, trinomial, abbess, revolves,\n",
      "Nearest to also: often, which, sometimes, still, now, never, commonly, locust,\n",
      "Nearest to or: and, callithrix, than, cebus, microcebus, abet, otimes, reginae,\n",
      "Nearest to have: had, has, were, are, be, primigenius, randle, pulau,\n",
      "Nearest to used: known, akita, barberini, agouti, sampling, nguni, referred, tamarin,\n",
      "Nearest to so: microsite, memorials, thaler, baresi, cochran, completely, vinny, UNK,\n"
     ]
    }
   ],
   "source": [
    "num_steps = 100001\n",
    "with tf.Session(graph=graph) as session:\n",
    "    init.run()\n",
    "    print(\"Initialized\")\n",
    "    \n",
    "    average_loss = 0\n",
    "    for step in range(num_steps):\n",
    "        batch_inputs, batch_labels = generate_batch(batch_size, num_skips, skip_window)\n",
    "        feed_dict = {train_inputs:batch_inputs, train_labels:batch_labels}\n",
    "        \n",
    "        _, loss_val = session.run([optimizer, loss], feed_dict=feed_dict)\n",
    "        average_loss  += loss_val\n",
    "        \n",
    "        if step%2000 ==0:\n",
    "            if step > 0:\n",
    "                average_loss /=2000\n",
    "            print(\"Average loss at step \", step, \": \", average_loss)\n",
    "            average_loss = 0\n",
    "            \n",
    "        if step%10000 ==0:\n",
    "            sim = similarity.eval()\n",
    "            for i in range(valid_size):\n",
    "                valid_words = reverse_dictionary[valid_example[i]]\n",
    "                top_k=8\n",
    "                nearest = (-sim[i,:]).argsort()[1:top_k+1]\n",
    "                log_str = \"Nearest to %s:\"%valid_words\n",
    "                \n",
    "                for k in range(top_k):\n",
    "                    close_word = reverse_dictionary[nearest[k]]\n",
    "                    log_str = \"%s %s,\" %(log_str, close_word)\n",
    "                print(log_str)\n",
    "        final_embeddings = normalized_embeddings.eval()"
   ]
  },
  {
   "cell_type": "markdown",
   "metadata": {
    "deletable": true,
    "editable": true
   },
   "source": [
    "高维数据可视化"
   ]
  },
  {
   "cell_type": "code",
   "execution_count": 14,
   "metadata": {
    "collapsed": true,
    "deletable": true,
    "editable": true
   },
   "outputs": [],
   "source": [
    "def plot_with_labels(low_dim_embs, labels, filename='tsne.png'):\n",
    "    assert low_dim_embs.shape[0] >= len(labels), \"More labels thanembeddings\"\n",
    "    plt.figure(figsize=(18, 18))\n",
    "    for i, label in enumerate(labels):\n",
    "        x, y = low_dim_embs[i, :]\n",
    "        plt.scatter(x, y)\n",
    "        plt.annotate(label, xy=(x, y), xytext=(5, 2), textcoords='offset points',  ha='right', va='bottom')\n",
    "    plt.savefig(filename)"
   ]
  },
  {
   "cell_type": "code",
   "execution_count": 16,
   "metadata": {
    "collapsed": false,
    "deletable": true,
    "editable": true
   },
   "outputs": [
    {
     "data": {
      "image/png": "[encoded data removed]",
      "text/plain": [
       "<matplotlib.figure.Figure at 0x7fe5c2e58978>"
      ]
     },
     "metadata": {},
     "output_type": "display_data"
    }
   ],
   "source": [
    "%matplotlib inline\n",
    "from sklearn.manifold import TSNE\n",
    "import matplotlib.pyplot as plt\n",
    "\n",
    "tsne = TSNE(perplexity=30, n_components=2, init='pca', n_iter=5000)\n",
    "plot_only = 100\n",
    "low_dim_embs = tsne.fit_transform(final_embeddings[:plot_only, :])\n",
    "labels = [reverse_dictionary[i] for i in range(plot_only)]\n",
    "plot_with_labels(low_dim_embs, labels)"
   ]
  },
  {
   "cell_type": "code",
   "execution_count": null,
   "metadata": {
    "collapsed": true
   },
   "outputs": [],
   "source": []
  }
 ],
 "metadata": {
  "kernelspec": {
   "display_name": "Python 3",
   "language": "python",
   "name": "python3"
  },
  "language_info": {
   "codemirror_mode": {
    "name": "ipython",
    "version": 3
   },
   "file_extension": ".py",
   "mimetype": "text/x-python",
   "name": "python",
   "nbconvert_exporter": "python",
   "pygments_lexer": "ipython3",
   "version": "3.5.2"
  }
 },
 "nbformat": 4,
 "nbformat_minor": 2
}
