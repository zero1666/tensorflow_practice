{
 "cells": [
  {
   "cell_type": "markdown",
   "metadata": {
    "deletable": true,
    "editable": true
   },
   "source": [
    "# Word2Vec(Skip-Gram mode)"
   ]
  },
  {
   "cell_type": "code",
   "execution_count": 1,
   "metadata": {
    "collapsed": false,
    "deletable": true,
    "editable": true
   },
   "outputs": [],
   "source": [
    "import collections\n",
    "import math\n",
    "import os\n",
    "import random\n",
    "import zipfile\n",
    "import urllib.request\n",
    "import numpy as np\n",
    "import tensorflow as tf"
   ]
  },
  {
   "cell_type": "markdown",
   "metadata": {
    "deletable": true,
    "editable": true
   },
   "source": [
    "### 1. 下载文本数据"
   ]
  },
  {
   "cell_type": "code",
   "execution_count": 2,
   "metadata": {
    "collapsed": true,
    "deletable": true,
    "editable": true
   },
   "outputs": [],
   "source": [
    "url = \"http://mattmahoney.net/dc/\"\n",
    "\n",
    "def maybe_download(filename, expected_bytes):\n",
    "    if not os.path.exists(filename) :\n",
    "        filename, _ = urllib.request.urlretrieve(url+filename, filename)\n",
    "    statinfo = os.stat(filename)\n",
    "    if statinfo.st_size == expected_bytes:\n",
    "        print(\"found and verified\", filename)\n",
    "    else:\n",
    "        print(statinfo.st_size)\n",
    "        raise Exception(\"Failed to verify\" +  filename + '. Can you get to it with a browser?')\n",
    "    return filename"
   ]
  },
  {
   "cell_type": "code",
   "execution_count": 3,
   "metadata": {
    "collapsed": false,
    "deletable": true,
    "editable": true
   },
   "outputs": [
    {
     "name": "stdout",
     "output_type": "stream",
     "text": [
      "found and verified text8.zip\n"
     ]
    }
   ],
   "source": [
    "filename = maybe_download(\"text8.zip\", 31344016)"
   ]
  },
  {
   "cell_type": "code",
   "execution_count": 4,
   "metadata": {
    "collapsed": true,
    "deletable": true,
    "editable": true
   },
   "outputs": [],
   "source": [
    "def read_data(filename):\n",
    "    with zipfile.ZipFile(filename) as f:\n",
    "        data = tf.compat.as_str(f.read(f.namelist()[0])).split()\n",
    "    return data"
   ]
  },
  {
   "cell_type": "code",
   "execution_count": 5,
   "metadata": {
    "collapsed": false,
    "deletable": true,
    "editable": true
   },
   "outputs": [
    {
     "name": "stdout",
     "output_type": "stream",
     "text": [
      "Data Size:  17005207\n"
     ]
    }
   ],
   "source": [
    "words = read_data(filename)\n",
    "print('Data Size: ',len(words))"
   ]
  },
  {
   "cell_type": "code",
   "execution_count": 6,
   "metadata": {
    "collapsed": false,
    "deletable": true,
    "editable": true
   },
   "outputs": [],
   "source": [
    "vocabulary_size = 50000\n",
    "\n",
    "def build_dataset(words):\n",
    "    count = [['UNK', -1]]\n",
    "    count.extend(collections.Counter(words).most_common(vocabulary_size-1))\n",
    "    dictionary = dict()\n",
    "    for word, _ in count:\n",
    "        dictionary[word] = len(dictionary)\n",
    "    data = list()\n",
    "    unk_count = 0\n",
    "    for word in words:\n",
    "        if word in dictionary:\n",
    "            index = dictionary[word]\n",
    "        else:\n",
    "            index = 0\n",
    "            unk_count += 1\n",
    "        data.append(index)\n",
    "    count[0][1] = unk_count\n",
    "    reverse_dictionary = dict(zip(dictionary.values(), dictionary.keys()))\n",
    "    return data, count,  dictionary, reverse_dictionary, "
   ]
  },
  {
   "cell_type": "code",
   "execution_count": 7,
   "metadata": {
    "collapsed": false,
    "deletable": true,
    "editable": true
   },
   "outputs": [],
   "source": [
    "data, count, dictionary, reverse_dictionary = build_dataset(words)\n"
   ]
  },
  {
   "cell_type": "code",
   "execution_count": 8,
   "metadata": {
    "collapsed": false,
    "deletable": true,
    "editable": true
   },
   "outputs": [
    {
     "name": "stdout",
     "output_type": "stream",
     "text": [
      "Most common words (+UNK)  [['UNK', 418391], ('the', 1061396), ('of', 593677), ('and', 416629), ('one', 411764)]\n",
      "Sample data [5235, 3082, 12, 6, 195, 2, 3137, 46, 59, 156] ['anarchism', 'originated', 'as', 'a', 'term', 'of', 'abuse', 'first', 'used', 'against']\n"
     ]
    }
   ],
   "source": [
    "del words\n",
    "print('Most common words (+UNK) ', count[:5])\n",
    "print('Sample data', data[:10], [reverse_dictionary[i] for i in data[:10]])"
   ]
  },
  {
   "cell_type": "markdown",
   "metadata": {
    "deletable": true,
    "editable": true
   },
   "source": [
    "生成训练样本，label"
   ]
  },
  {
   "cell_type": "code",
   "execution_count": 9,
   "metadata": {
    "collapsed": false,
    "deletable": true,
    "editable": true
   },
   "outputs": [],
   "source": [
    "data_index = 0\n",
    "\n",
    "def generate_batch(batch_size, num_skip, skip_window):\n",
    "    global data_index\n",
    "    assert batch_size%num_skip ==  0\n",
    "    assert num_skip <= 2*skip_window\n",
    "    batch = np.ndarray(shape=[batch_size], dtype=np.int32)\n",
    "    labels = np.ndarray(shape=[batch_size, 1], dtype=np.int32)\n",
    "    span = 2*skip_window+1\n",
    "    buffer = collections.deque(maxlen=span)\n",
    "    \n",
    "    for _ in range(span):\n",
    "        buffer.append(data[data_index])\n",
    "        data_index = (data_index+1)%len(data)\n",
    "    for i in range(batch_size//num_skip):\n",
    "        target = skip_window\n",
    "        targets_to_avoid = [skip_window ]\n",
    "        for  j in range(num_skip):\n",
    "            while target in targets_to_avoid:\n",
    "                target = random.randint(0, span -1)\n",
    "            targets_to_avoid.append(target)\n",
    "            batch[i*num_skip +j] = buffer[skip_window]\n",
    "            labels[i*num_skip +j] = buffer[target]\n",
    "        buffer.append(data[data_index])\n",
    "        data_index = (data_index+1)%len(data)\n",
    "    return batch, labels"
   ]
  },
  {
   "cell_type": "code",
   "execution_count": 10,
   "metadata": {
    "collapsed": false,
    "deletable": true,
    "editable": true
   },
   "outputs": [
    {
     "name": "stdout",
     "output_type": "stream",
     "text": [
      "3082 originated --> 12 as\n",
      "3082 originated --> 5235 anarchism\n",
      "12 as --> 6 a\n",
      "12 as --> 3082 originated\n",
      "6 a --> 195 term\n",
      "6 a --> 12 as\n",
      "195 term --> 6 a\n",
      "195 term --> 2 of\n"
     ]
    }
   ],
   "source": [
    "batch, labels = generate_batch(batch_size=8, num_skip=2, skip_window=1)\n",
    "for i in range(8):\n",
    "    print(batch[i], reverse_dictionary[batch[i]], '-->', labels[i, 0], reverse_dictionary[labels[i, 0]])"
   ]
  },
  {
   "cell_type": "markdown",
   "metadata": {
    "deletable": true,
    "editable": true
   },
   "source": [
    "参数初始化"
   ]
  },
  {
   "cell_type": "code",
   "execution_count": 11,
   "metadata": {
    "collapsed": true,
    "deletable": true,
    "editable": true
   },
   "outputs": [],
   "source": [
    "batch_size = 128\n",
    "embedding_size = 128\n",
    "skip_window = 1\n",
    "num_skips  = 2\n",
    "\n",
    "valid_size = 16\n",
    "valid_window = 100\n",
    "valid_example =  np.random.choice(valid_window, valid_size, replace=False)\n",
    "num_sampled = 64"
   ]
  },
  {
   "cell_type": "markdown",
   "metadata": {
    "deletable": true,
    "editable": true
   },
   "source": [
    "定义 Skip-Gram Word2Vec 模型的网络结构"
   ]
  },
  {
   "cell_type": "code",
   "execution_count": 12,
   "metadata": {
    "collapsed": false,
    "deletable": true,
    "editable": true
   },
   "outputs": [],
   "source": [
    "graph = tf.Graph()\n",
    "with graph.as_default() :\n",
    "    train_inputs = tf.placeholder(tf.int32, shape=[batch_size])\n",
    "    train_labels = tf.placeholder(tf.int32, shape=[batch_size, 1])\n",
    "    valid_dataset = tf.constant(valid_example, dtype=tf.int32)\n",
    "    \n",
    "    with tf.device('/cpu:0'):\n",
    "        embeddings = tf.Variable(tf.random_uniform([vocabulary_size, embedding_size], -1.0, 1.0))\n",
    "        embed = tf.nn.embedding_lookup(embeddings, train_inputs)\n",
    "        \n",
    "        nce_weights = tf.Variable(tf.truncated_normal([vocabulary_size, embedding_size], stddev=1.0/math.sqrt(embedding_size)))\n",
    "        nce_biases = tf.Variable(tf.zeros([vocabulary_size]))\n",
    "        \n",
    "    loss = tf.reduce_mean(tf.nn.nce_loss(weights=nce_weights, biases=nce_biases, labels=train_labels,\n",
    "                                         inputs=embed, num_sampled=num_sampled, num_classes=vocabulary_size))\n",
    "    \n",
    "    optimizer = tf.train.GradientDescentOptimizer(1.0).minimize(loss)\n",
    "    norm = tf.sqrt(tf.reduce_sum(tf.square(embeddings), 1, keep_dims=True))\n",
    "    normalized_embeddings = embeddings/norm\n",
    "    valid_embeddings = tf.nn.embedding_lookup(normalized_embeddings,  valid_dataset)\n",
    "    similarity = tf.matmul(valid_embeddings, normalized_embeddings, transpose_b=True)\n",
    "    init = tf.global_variables_initializer()"
   ]
  },
  {
   "cell_type": "code",
   "execution_count": null,
   "metadata": {
    "collapsed": false,
    "deletable": true,
    "editable": true,
    "scrolled": true
   },
   "outputs": [
    {
     "name": "stdout",
     "output_type": "stream",
     "text": [
      "Initialized\n",
      "Average loss at step  0 :  293.69152832\n",
      "Nearest to in: ven, london, anonymous, automakers, introductory, babylonians, exceptionally, leontopithecus,\n",
      "Nearest to see: roche, russification, amiga, hurriedly, child, layering, edwina, absolutive,\n",
      "Nearest to many: major, roslin, adjutant, store, replay, husky, arcadia, lucilla,\n",
      "Nearest to eight: lawmakers, timeline, timeless, reworked, macao, henson, lading, milne,\n",
      "Nearest to into: kurtosis, serpento, suffolk, sibm, gardeners, falling, harriet, mitigating,\n",
      "Nearest to nine: challengers, sulphur, environment, printings, sdi, discontinuation, odors, neglected,\n",
      "Nearest to and: conceits, reproach, connell, haldane, basins, wrestling, broadbent, apostolic,\n",
      "Nearest to after: actinide, angevin, upkeep, irreplaceable, harboring, intercal, narratives, guatemalan,\n",
      "Nearest to known: abominable, canyons, humphries, aarhus, helens, cerevisiae, mendelevium, narrator,\n",
      "Nearest to an: liberalisation, schindler, parishioners, unfairness, multidimensional, chilling, gabor, plated,\n",
      "Nearest to was: incriminating, quadriceps, omnipotence, overturned, impair, garnered, carly, avoided,\n",
      "Nearest to had: attributing, illegal, grim, decreases, electroweak, expansionist, transformative, ladislaus,\n",
      "Nearest to one: adjusted, budd, vla, cost, oddie, fleury, redistribute, alcs,\n",
      "Nearest to i: nietzsche, gillian, tensile, competencies, resigns, melvin, evansville, unbound,\n",
      "Nearest to for: whereof, carlisle, hilton, decay, jacoby, vocational, heralded, nepalese,\n",
      "Nearest to has: soul, beam, withheld, frisians, observatory, organometallic, vis, nordisk,\n",
      "Average loss at step  2000 :  113.724241103\n",
      "Average loss at step  4000 :  52.8426110585\n",
      "Average loss at step  6000 :  33.7234117143\n",
      "Average loss at step  8000 :  23.302794682\n",
      "Average loss at step  10000 :  17.5663522385\n",
      "Nearest to in: of, and, from, with, by, on, for, gland,\n",
      "Nearest to see: deism, vs, prejudice, e, ordinance, tailback, boeing, and,\n",
      "Nearest to many: major, statue, terra, vs, table, k, coming, profit,\n",
      "Nearest to eight: nine, zero, gland, reginae, six, victoriae, kind, alpina,\n",
      "Nearest to into: gland, victoriae, acquire, scrimmage, mitigating, happy, in, bagoas,\n",
      "Nearest to nine: zero, vs, victoriae, reginae, gland, austin, phi, six,\n",
      "Nearest to and: in, of, or, vs, UNK, by, gland, zero,\n",
      "Nearest to after: in, and, pinus, jesus, phi, from, of, narratives,\n",
      "Nearest to known: basins, cognitive, cl, alpine, aarhus, apollo, bazin, rapid,\n",
      "Nearest to an: hoare, the, vs, famous, board, unix, plata, developed,\n",
      "Nearest to was: is, reginae, but, bit, crowley, summer, victoriae, arena,\n",
      "Nearest to had: subfamily, illegal, and, land, reginae, at, hearts, asymmetric,\n",
      "Nearest to one: vs, victoriae, gland, reginae, two, alpina, nine, agave,\n",
      "Nearest to i: nietzsche, archaeologists, championships, fear, tensile, a, english, it,\n",
      "Nearest to for: of, in, and, aol, nine, aut, to, dealt,\n",
      "Nearest to has: soul, is, but, was, victoriae, observatory, mongolia, standardized,\n",
      "Average loss at step  12000 :  14.3548765424\n",
      "Average loss at step  14000 :  11.6313334445\n",
      "Average loss at step  16000 :  9.78281787527\n",
      "Average loss at step  18000 :  8.70532175684\n",
      "Average loss at step  20000 :  7.80334131694\n",
      "Nearest to in: from, and, for, of, with, on, dasyprocta, at,\n",
      "Nearest to see: agouti, amiga, russification, deism, dasyprocta, roche, are, prejudice,\n",
      "Nearest to many: some, dasyprocta, statue, major, herse, a, lipids, the,\n",
      "Nearest to eight: nine, zero, six, five, dasyprocta, agouti, four, seven,\n",
      "Nearest to into: in, was, mitigating, happy, to, acquire, surveyed, gland,\n",
      "Nearest to nine: eight, six, zero, seven, dasyprocta, five, agouti, four,\n",
      "Nearest to and: or, dasyprocta, agouti, in, for, of, one, msg,\n",
      "Nearest to after: in, from, dasyprocta, and, pinus, arena, agouti, jesus,\n",
      "Nearest to known: cognitive, bazin, crying, hello, basins, cl, such, alpine,\n",
      "Nearest to an: the, hoare, vs, occasions, agouti, often, qualities, one,\n",
      "Nearest to was: is, are, has, were, had, but, agouti, by,\n",
      "Nearest to had: was, have, has, at, is, subfamily, are, were,\n",
      "Nearest to one: two, agouti, three, dasyprocta, four, six, eight, victoriae,\n",
      "Nearest to i: archaeologists, championships, nietzsche, UNK, tensile, english, resigns, fear,\n",
      "Nearest to for: in, and, of, agouti, with, dasyprocta, by, as,\n",
      "Nearest to has: was, is, but, have, had, soul, standardized, mongolia,\n",
      "Average loss at step  22000 :  7.3043655479\n",
      "Average loss at step  24000 :  6.95366710305\n",
      "Average loss at step  26000 :  6.66187040365\n",
      "Average loss at step  28000 :  6.15169133878\n",
      "Average loss at step  30000 :  6.20178171647\n",
      "Nearest to in: and, on, from, of, at, for, with, nine,\n",
      "Nearest to see: agouti, roche, are, UNK, dasyprocta, deism, russification, herbrand,\n",
      "Nearest to many: some, dasyprocta, statue, herse, incestuous, major, a, the,\n",
      "Nearest to eight: nine, six, five, seven, four, zero, three, dasyprocta,\n",
      "Nearest to into: in, to, mitigating, and, from, happy, was, adolphe,\n",
      "Nearest to nine: eight, seven, six, five, four, zero, three, dasyprocta,\n",
      "Nearest to and: or, dasyprocta, agouti, in, of, for, zero, msg,\n",
      "Nearest to after: from, in, and, dasyprocta, arena, three, of, agouti,\n",
      "Nearest to known: cognitive, bazin, crying, such, searle, cloud, cl, hello,\n",
      "Nearest to an: the, hoare, occasions, often, agouti, vs, explosion, qualities,\n",
      "Nearest to was: is, were, has, had, by, are, been, agouti,\n",
      "Nearest to had: was, have, has, is, were, at, are, hearts,\n",
      "Nearest to one: two, agouti, three, four, eight, six, seven, dasyprocta,\n",
      "Nearest to i: archaeologists, championships, nietzsche, haight, t, resigns, neurotoxicity, g,\n",
      "Nearest to for: and, in, of, with, agouti, dasyprocta, to, from,\n",
      "Nearest to has: was, is, had, have, but, soul, standardized, agouti,\n",
      "Average loss at step  32000 :  5.85916895843\n",
      "Average loss at step  34000 :  5.88386561704\n",
      "Average loss at step  36000 :  5.67807091308\n",
      "Average loss at step  38000 :  5.26197791588\n",
      "Average loss at step  40000 :  5.48762531829\n",
      "Nearest to in: and, from, on, of, at, agouti, with, dasyprocta,\n",
      "Nearest to see: agouti, roche, are, russification, deism, and, dasyprocta, albury,\n",
      "Nearest to many: some, dasyprocta, these, herse, all, the, statue, incestuous,\n",
      "Nearest to eight: nine, six, seven, four, five, three, zero, agouti,\n",
      "Nearest to into: in, from, mitigating, happy, absalon, adolphe, to, acquire,\n",
      "Nearest to nine: eight, seven, six, zero, five, four, agouti, dasyprocta,\n",
      "Nearest to and: or, dasyprocta, agouti, in, six, four, three, but,\n",
      "Nearest to after: from, dasyprocta, in, arena, four, six, three, and,\n",
      "Nearest to known: such, cognitive, bazin, crying, humphries, cloud, searle, mack,\n",
      "Nearest to an: the, hoare, often, schindler, vs, abet, occasions, it,\n",
      "Nearest to was: is, were, has, had, by, are, been, agouti,\n",
      "Nearest to had: has, have, was, were, is, are, hearts, at,\n",
      "Nearest to one: two, seven, four, agouti, three, six, five, eight,\n",
      "Nearest to i: archaeologists, UNK, t, nietzsche, championships, g, neurotoxicity, venera,\n",
      "Nearest to for: and, agouti, in, dasyprocta, with, from, of, recitative,\n",
      "Nearest to has: had, was, is, have, but, agouti, were, soul,\n",
      "Average loss at step  42000 :  5.33461402142\n",
      "Average loss at step  44000 :  5.27452198708\n",
      "Average loss at step  46000 :  5.25970632827\n",
      "Average loss at step  48000 :  5.06105628729\n",
      "Average loss at step  50000 :  5.14551865494\n",
      "Nearest to in: on, at, and, from, thibetanus, of, agouti, dasyprocta,\n",
      "Nearest to see: roche, agouti, deism, russification, are, dasyprocta, sarcastic, asthma,\n",
      "Nearest to many: some, these, dasyprocta, all, abet, herse, incestuous, lonsdale,\n",
      "Nearest to eight: seven, six, nine, four, five, three, zero, dasyprocta,\n",
      "Nearest to into: from, borland, in, thibetanus, to, gland, nine, absalon,\n",
      "Nearest to nine: eight, seven, six, zero, five, three, four, dasyprocta,\n",
      "Nearest to and: or, agouti, dasyprocta, but, thibetanus, eight, in, seven,\n",
      "Nearest to after: from, dasyprocta, arena, six, four, three, solicitation, eight,\n",
      "Nearest to known: such, cognitive, bazin, crying, hussite, humphries, cloud, used,\n",
      "Nearest to an: the, schindler, hoare, brahman, lionel, vargas, pistol, it,\n",
      "Nearest to was: is, were, has, had, by, are, been, be,\n",
      "Nearest to had: has, have, was, were, is, hearts, are, reginae,\n",
      "Nearest to one: two, four, agouti, six, three, seven, eight, five,\n",
      "Nearest to i: archaeologists, t, nietzsche, championships, g, neurotoxicity, venera, homers,\n",
      "Nearest to for: and, in, agouti, with, of, from, recitative, dasyprocta,\n",
      "Nearest to has: had, is, have, was, agouti, dasyprocta, soul, were,\n",
      "Average loss at step  52000 :  5.16865730321\n",
      "Average loss at step  54000 :  5.12203838944\n",
      "Average loss at step  56000 :  5.05830991876\n",
      "Average loss at step  58000 :  5.13693159735\n",
      "Average loss at step  60000 :  4.94655622327\n",
      "Nearest to in: at, on, thibetanus, of, microcebus, under, and, from,\n",
      "Nearest to see: agouti, michelob, roche, deism, dasyprocta, and, albury, sarcastic,\n",
      "Nearest to many: some, these, several, all, michelob, other, dasyprocta, abet,\n",
      "Nearest to eight: six, nine, seven, five, four, zero, three, cebus,\n",
      "Nearest to into: from, borland, in, to, thibetanus, absalon, gland, pulau,\n",
      "Nearest to nine: eight, six, seven, five, four, zero, three, microcebus,\n",
      "Nearest to and: or, dasyprocta, agouti, michelob, but, msg, thibetanus, pulau,\n",
      "Nearest to after: from, during, in, arena, dasyprocta, four, when, six,\n",
      "Nearest to known: such, cognitive, bazin, crying, used, hussite, cloud, humphries,\n",
      "Nearest to an: schindler, the, brahman, hoare, lionel, ripples, vargas, explosion,\n",
      "Nearest to was: is, were, had, has, by, became, been, be,\n",
      "Nearest to had: has, have, was, were, is, hearts, cebus, been,\n",
      "Nearest to one: two, four, six, three, seven, five, agouti, cebus,\n",
      "Nearest to i: t, archaeologists, g, championships, nietzsche, neurotoxicity, UNK, homers,\n",
      "Nearest to for: and, of, or, agouti, recitative, dasyprocta, in, thibetanus,\n",
      "Nearest to has: had, have, was, is, cebus, agouti, dasyprocta, soul,\n",
      "Average loss at step  62000 :  4.79674960101\n",
      "Average loss at step  64000 :  4.79459327245\n",
      "Average loss at step  66000 :  4.96782737398\n",
      "Average loss at step  68000 :  4.92943714261\n",
      "Average loss at step  70000 :  4.77223002481\n",
      "Nearest to in: at, on, thibetanus, from, microcebus, michelob, dasyprocta, for,\n",
      "Nearest to see: agouti, deism, roche, michelob, dasyprocta, sarcastic, albury, and,\n",
      "Nearest to many: some, these, several, all, michelob, various, abet, other,\n",
      "Nearest to eight: nine, six, seven, five, four, three, zero, cebus,\n",
      "Nearest to into: from, borland, in, thibetanus, remedies, around, gland, pulau,\n",
      "Nearest to nine: eight, six, seven, five, four, zero, microcebus, cebus,\n",
      "Nearest to and: or, michelob, dasyprocta, but, agouti, thibetanus, msg, thaler,\n",
      "Nearest to after: during, from, in, when, arena, dasyprocta, six, before,\n",
      "Nearest to known: such, used, bazin, cognitive, crying, hussite, cloud, humphries,\n",
      "Nearest to an: the, schindler, guant, brahman, beti, hoare, ripples, lionel,\n",
      "Nearest to was: is, were, had, has, by, became, been, cebus,\n",
      "Nearest to had: has, have, was, were, is, hearts, been, cebus,\n",
      "Nearest to one: six, two, four, seven, three, agouti, eight, five,\n",
      "Nearest to i: t, g, UNK, archaeologists, championships, homers, nietzsche, we,\n",
      "Nearest to for: in, of, recitative, and, agouti, dasyprocta, or, wct,\n",
      "Nearest to has: had, have, is, was, cebus, agouti, soul, dasyprocta,\n",
      "Average loss at step  72000 :  4.81716800284\n",
      "Average loss at step  74000 :  4.7836585291\n",
      "Average loss at step  76000 :  4.87189124382\n",
      "Average loss at step  78000 :  4.79625884545\n",
      "Average loss at step  80000 :  4.80439875698\n",
      "Nearest to in: at, on, during, microcebus, thibetanus, and, dasyprocta, of,\n",
      "Nearest to see: agouti, deism, michelob, roche, and, dasyprocta, asthma, approx,\n",
      "Nearest to many: some, these, several, all, various, other, michelob, abet,\n",
      "Nearest to eight: seven, six, nine, five, four, three, zero, cebus,\n",
      "Nearest to into: from, borland, in, around, remedies, thibetanus, to, candide,\n",
      "Nearest to nine: eight, seven, six, five, four, zero, microcebus, cebus,\n",
      "Nearest to and: or, michelob, agouti, dasyprocta, but, thibetanus, cebus, candide,\n",
      "Nearest to after: during, when, from, before, arena, in, dasyprocta, despite,\n",
      "Nearest to known: used, such, cognitive, crying, bazin, cloud, hussite, humphries,\n",
      "Nearest to an: guant, schindler, beti, hoare, brahman, the, transferred, ripples,\n",
      "Nearest to was: is, were, had, has, became, been, by, be,\n",
      "Nearest to had: has, have, was, were, hearts, been, cebus, became,\n",
      "Nearest to one: six, two, seven, four, three, five, agouti, eight,\n",
      "Nearest to i: g, t, archaeologists, UNK, nietzsche, we, ltcm, championships,\n",
      "Nearest to for: agouti, recitative, in, dasyprocta, and, or, of, michelob,\n",
      "Nearest to has: had, have, is, was, shula, agouti, cebus, dasyprocta,\n",
      "Average loss at step  82000 :  4.80555030084\n",
      "Average loss at step  84000 :  4.77195000517\n",
      "Average loss at step  86000 :  4.74383261633\n",
      "Average loss at step  88000 :  4.69328659952\n",
      "Average loss at step  90000 :  4.76632325602\n",
      "Nearest to in: at, under, during, microcebus, and, thibetanus, on, of,\n",
      "Nearest to see: agouti, deism, michelob, dasyprocta, roche, pissarro, asthma, albury,\n",
      "Nearest to many: some, several, these, all, various, michelob, abet, other,\n",
      "Nearest to eight: seven, five, nine, six, four, zero, three, agouti,\n",
      "Nearest to into: from, borland, around, in, remedies, thibetanus, gland, to,\n",
      "Nearest to nine: eight, seven, six, five, four, zero, microcebus, cebus,\n",
      "Nearest to and: or, but, dasyprocta, michelob, agouti, thibetanus, msg, thaler,\n",
      "Nearest to after: during, when, before, from, in, arena, six, despite,\n",
      "Nearest to known: used, such, cognitive, bazin, crying, cloud, britons, regarded,\n",
      "Nearest to an: guant, beti, brahman, schindler, steyr, lovelock, ripples, the,\n",
      "Nearest to was: is, had, has, were, became, been, cebus, be,\n",
      "Nearest to had: has, have, was, were, having, cebus, been, hearts,\n",
      "Nearest to one: four, seven, two, six, agouti, eight, three, five,\n",
      "Nearest to i: g, t, archaeologists, we, they, ltcm, championships, nietzsche,\n",
      "Nearest to for: of, agouti, in, recitative, and, dasyprocta, while, wct,\n",
      "Nearest to has: had, have, was, is, shula, cebus, agouti, dasyprocta,\n",
      "Average loss at step  92000 :  4.70246615946\n"
     ]
    }
   ],
   "source": [
    "num_steps = 100001\n",
    "with tf.Session(graph=graph) as session:\n",
    "    init.run()\n",
    "    print(\"Initialized\")\n",
    "    \n",
    "    average_loss = 0\n",
    "    for step in range(num_steps):\n",
    "        batch_inputs, batch_labels = generate_batch(batch_size, num_skips, skip_window)\n",
    "        feed_dict = {train_inputs:batch_inputs, train_labels:batch_labels}\n",
    "        \n",
    "        _, loss_val = session.run([optimizer, loss], feed_dict=feed_dict)\n",
    "        average_loss  += loss_val\n",
    "        \n",
    "        if step%2000 ==0:\n",
    "            if step > 0:\n",
    "                average_loss /=2000\n",
    "            print(\"Average loss at step \", step, \": \", average_loss)\n",
    "            average_loss = 0\n",
    "            \n",
    "        if step%10000 ==0:\n",
    "            sim = similarity.eval()\n",
    "            for i in range(valid_size):\n",
    "                valid_words = reverse_dictionary[valid_example[i]]\n",
    "                top_k=8\n",
    "                nearest = (-sim[i,:]).argsort()[1:top_k+1]\n",
    "                log_str = \"Nearest to %s:\"%valid_words\n",
    "                \n",
    "                for k in range(top_k):\n",
    "                    close_word = reverse_dictionary[nearest[k]]\n",
    "                    log_str = \"%s %s,\" %(log_str, close_word)\n",
    "                print(log_str)\n",
    "        final_embeddings = normalized_embeddings.eval()"
   ]
  },
  {
   "cell_type": "markdown",
   "metadata": {
    "deletable": true,
    "editable": true
   },
   "source": [
    "高维数据可视化"
   ]
  },
  {
   "cell_type": "code",
   "execution_count": null,
   "metadata": {
    "collapsed": true,
    "deletable": true,
    "editable": true
   },
   "outputs": [],
   "source": [
    "def plot_with_labels(low_dim_embs, labels, filename='tsne.png'):\n",
    "    assert low_dim_embs.shape[0] >= len(labels), \"More labels thanembeddings\"\n",
    "    plt.figure(figsize=(18, 18))\n",
    "    for i, label in enumerate(labels):\n",
    "        x, y = low_dim_embs[i, :]\n",
    "        plt.scatter(x, y)\n",
    "        plt.annotate(label, xy=(x, y), xytext=(5, 2), textcoords='offset points',  ha='right', va='bottom')\n",
    "    plt.savefig(filename)"
   ]
  },
  {
   "cell_type": "code",
   "execution_count": null,
   "metadata": {
    "collapsed": true,
    "deletable": true,
    "editable": true
   },
   "outputs": [],
   "source": [
    "from sklearn.manifold import TSNE\n",
    "import matplotlib.pyplot as plt\n",
    "tsne = TSNE(perplexity=30, n_components=2, init='pca', n_iter=5000)\n",
    "plot_only = 100\n",
    "low_dim_embs = tsne.fit_transform(final_embeddings[:plot_only, :])\n",
    "labels = [reverse_dictionary[i] for i in range(plot_only)]\n",
    "plot_with_labels(low_dim_embs, labels)"
   ]
  },
  {
   "cell_type": "code",
   "execution_count": null,
   "metadata": {
    "collapsed": true,
    "deletable": true,
    "editable": true
   },
   "outputs": [],
   "source": []
  },
  {
   "cell_type": "code",
   "execution_count": null,
   "metadata": {
    "collapsed": true
   },
   "outputs": [],
   "source": []
  },
  {
   "cell_type": "code",
   "execution_count": null,
   "metadata": {
    "collapsed": true
   },
   "outputs": [],
   "source": []
  }
 ],
 "metadata": {
  "kernelspec": {
   "display_name": "Python 3",
   "language": "python",
   "name": "python3"
  },
  "language_info": {
   "codemirror_mode": {
    "name": "ipython",
    "version": 3
   },
   "file_extension": ".py",
   "mimetype": "text/x-python",
   "name": "python",
   "nbconvert_exporter": "python",
   "pygments_lexer": "ipython3",
   "version": "3.5.2"
  }
 },
 "nbformat": 4,
 "nbformat_minor": 2
}
