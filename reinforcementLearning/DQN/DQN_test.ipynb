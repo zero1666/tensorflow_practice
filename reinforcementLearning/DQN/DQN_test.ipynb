{
 "cells": [
  {
   "cell_type": "markdown",
   "metadata": {},
   "source": [
    "# DQN"
   ]
  },
  {
   "cell_type": "code",
   "execution_count": 1,
   "metadata": {
    "collapsed": true
   },
   "outputs": [],
   "source": [
    "import numpy as np\n",
    "import random\n",
    "import itertools\n",
    "import scipy.misc\n",
    "import matplotlib.pyplot as plt\n",
    "import tensorflow as tf\n",
    "import os\n",
    "%matplotlib inline"
   ]
  },
  {
   "cell_type": "markdown",
   "metadata": {},
   "source": [
    "创建环境内物体对象的class"
   ]
  },
  {
   "cell_type": "code",
   "execution_count": 2,
   "metadata": {
    "collapsed": true
   },
   "outputs": [],
   "source": [
    "class gameOb():\n",
    "    def __init__(self, coordinates, size, intensity, channel, reward, name):\n",
    "        self.x = coordinates[0]\n",
    "        self.y = coordinates[1]\n",
    "        self.size = size\n",
    "        self.intensity = intensity\n",
    "        self.channel = channel\n",
    "        self.reward = reward\n",
    "        self.name = name"
   ]
  },
  {
   "cell_type": "markdown",
   "metadata": {},
   "source": [
    "创建GridWorld环境对应的class"
   ]
  },
  {
   "cell_type": "code",
   "execution_count": 3,
   "metadata": {
    "collapsed": true
   },
   "outputs": [],
   "source": [
    "class gameEnv():\n",
    "    def __init__(self, size):\n",
    "        self.sizeX = size\n",
    "        self.sizeY = size\n",
    "        self.actions = 4\n",
    "        self.objects = []\n",
    "        a = self.reset()\n",
    "        plt.imshow(a, interpolation=\"nearest\")\n",
    "        \n",
    "    def reset(self):\n",
    "        self.objects = []\n",
    "        hero = gameOb(self.newPosition(), 1, 1, 2, None, 'hero')\n",
    "        self.objects.append(hero)\n",
    "        goal = gameOb(self.newPosition(), 1, 1, 1, 1, 'goal')\n",
    "        self.objects.append(goal)\n",
    "        hole = gameOb(self.newPosition(), 1, 1, 0, -1, 'fire')\n",
    "        self.objects.append(hole)\n",
    "        goal2 = gameOb(self.newPosition(), 1, 1, 1, 1, 'goal')\n",
    "        self.objects.append(goal2)\n",
    "        hole2 = gameOb(self.newPosition(), 1, 1, 0, -1, 'fire')\n",
    "        self.objects.append(hole2)\n",
    "        goal3 = gameOb(self.newPosition(), 1, 1, 1, 1, 'goal')\n",
    "        self.objects.append(goal3)\n",
    "        goal4 = gameOb(self.newPosition(), 1, 1, 1, 1, 'goal')\n",
    "        self.objects.append(goal4)\n",
    "        state = self.renderEnv()\n",
    "        self.state = state\n",
    "        return state\n",
    "    \n",
    "    def moveChar(self, direction):\n",
    "        hero = self.objects[0]\n",
    "        heroX = hero.x\n",
    "        heroY = hero.y\n",
    "        if direction == 0 and hero.y>=1:\n",
    "            hero.y -= 1\n",
    "        if direction == 1 and hero.y <=self.sizeY-2:\n",
    "            hero.y += 1\n",
    "        if direction == 2 and hero.x >=1:\n",
    "            hero.x -= 1\n",
    "        if direction ==3 and hero.x<=self.sizeX-2:\n",
    "            hero.x += 1\n",
    "        self.objects[0] = hero\n",
    "        \n",
    "    def newPosition(self):\n",
    "        iterables = [range(self.sizeX), range(self.sizeY)]\n",
    "        points = []\n",
    "        for t in itertools.product(*iterables):\n",
    "            points.append(t)\n",
    "        currentPositions = []\n",
    "        for objectA in self.objects:\n",
    "            if(objectA.x, objectA.y) not in currentPositions:\n",
    "                currentPositions.append((objectA.x, objectA.y))\n",
    "        for pos in currentPositions:\n",
    "            points.remove(pos)\n",
    "        location = np.random.choice(range(len(points)), replace=False)\n",
    "        return points[location]\n",
    "    \n",
    "    def checkGoal(self):\n",
    "        others = []\n",
    "        for obj in self.objects:\n",
    "            if obj.name == 'hero':\n",
    "                hero = obj\n",
    "            else :\n",
    "                others.append(obj)\n",
    "        for other in others:\n",
    "            if hero.x == other.x and hero.y ==other.y:\n",
    "                self.objects.remove(other)\n",
    "                if other.reward == 1:\n",
    "                    self.objects.append(gameOb(self.newPosition(), 1, 1, 1, 1, 'goal'))\n",
    "                else:\n",
    "                    self.objects.append(gameOb(self.newPosition(), 1, 1, 0, -1, 'fire'))\n",
    "                return  other.reward, False\n",
    "        return 0.0, False\n",
    "    \n",
    "    def renderEnv(self):\n",
    "        a = np.ones([self.sizeY+2, self.sizeX+2, 3])\n",
    "        a[1:-1, 1:-1, :] = 0\n",
    "        hero =None\n",
    "        for item in self.objects:\n",
    "            a[item.y+1:item.y+item.size+1, item.x+1:item.x+item.size+1, item.channel] = item.intensity\n",
    "        b = scipy.misc.imresize(a[:,:,0], [84,84,1], interp=\"nearest\")\n",
    "        c = scipy.misc.imresize(a[:,:,1], [84,84,1], interp=\"nearest\")\n",
    "        d = scipy.misc.imresize(a[:,:,2], [84,84,1], interp=\"nearest\")\n",
    "        a = np.stack([b,c,d], axis=2)\n",
    "        return a\n",
    "    \n",
    "    def step(self,action):\n",
    "        self.moveChar(action)\n",
    "        reward, done = self.checkGoal()\n",
    "        state = self.renderEnv()\n",
    "        return state, reward, done"
   ]
  },
  {
   "cell_type": "code",
   "execution_count": 4,
   "metadata": {
    "collapsed": false
   },
   "outputs": [
    {
     "data": {
      "image/png": "[encoded data removed]",
      "text/plain": [
       "<matplotlib.figure.Figure at 0x7f0ea61d7828>"
      ]
     },
     "metadata": {},
     "output_type": "display_data"
    }
   ],
   "source": [
    "env = gameEnv(size=5)"
   ]
  },
  {
   "cell_type": "markdown",
   "metadata": {},
   "source": [
    "DQN 网络结构"
   ]
  },
  {
   "cell_type": "code",
   "execution_count": 11,
   "metadata": {
    "collapsed": false
   },
   "outputs": [],
   "source": [
    "class Qnetwork():\n",
    "    def __init__(self, h_size):\n",
    "        self.scalarInput = tf.placeholder(shape=[None, 21168], dtype=tf.float32)\n",
    "        self.imageIn = tf.reshape(self.scalarInput, shape=[-1,84,84,3])\n",
    "        self.conv1 = tf.contrib.layers.convolution2d(inputs=self.imageIn, num_outputs=32, \n",
    "                                                     kernel_size=[8,8], stride=[4,4], padding=\"VALID\", biases_initializer=None)\n",
    "        self.conv2 = tf.contrib.layers.convolution2d(inputs=self.conv1, num_outputs=64, \n",
    "                                                     kernel_size=[4,4], stride=[2,2], padding=\"VALID\", biases_initializer=None)\n",
    "        self.conv3 = tf.contrib.layers.convolution2d(inputs=self.conv2, num_outputs=64, \n",
    "                                                     kernel_size=[3,3], stride=[1,1], padding=\"VALID\", biases_initializer=None)\n",
    "        self.conv4 = tf.contrib.layers.convolution2d(inputs=self.conv3, num_outputs=h_size, \n",
    "                                                     kernel_size=[7,7], stride=[1,1], padding=\"VALID\", biases_initializer=None)\n",
    "        \n",
    "        self.streamAC, self.streamVC = tf.split(self.conv4, 2, 3)\n",
    "        self.streamA = tf.contrib.layers.flatten(self.streamAC)\n",
    "        self.streamV = tf.contrib.layers.flatten(self.streamVC)\n",
    "        self.AW =  tf.Variable(tf.random_normal([h_size//2, env.actions]))\n",
    "        self.VW = tf.Variable(tf.random_normal([h_size//2, 1]))\n",
    "        self.Advantage = tf.matmul(self.streamA, self.AW)\n",
    "        self.Value = tf.matmul(self.streamV, self.VW)\n",
    "        \n",
    "        self.Qout = self.Value + tf.subtract(self.Advantage, tf.reduce_mean(self.Advantage, axis=1, keep_dims=True))\n",
    "        print(\"self.Qout \", type(self.Qout),self.Qout.shape)\n",
    "        self.predict = tf.argmax(self.Qout, 1)\n",
    "        print(\"self.predict\", type(self.predict), self.predict.shape)\n",
    "        \n",
    "        self.targetQ = tf.placeholder(shape=[None], dtype=tf.float32)\n",
    "        print(\"self.targetQ\", type(self.targetQ), self.targetQ.shape)\n",
    "        self.actions = tf.placeholder(shape=[None], dtype=tf.int32)\n",
    "        print(\"self.actions :\", type(self.actions), self.actions.shape)\n",
    "        self.actions_onehot=tf.one_hot(self.actions, env.actions, dtype=tf.float32)\n",
    "        print(\"self.actions_onehot\", type(self.actions_onehot), self.actions_onehot.shape)\n",
    "        self.Q = tf.reduce_sum(tf.multiply(self.Qout, self.actions_onehot), axis=1)\n",
    "        print(\"self.Q\", type(self.Q), (self.Q).shape)\n",
    "        \n",
    "        self.td_error = tf.square(self.targetQ - self.Q)\n",
    "        self.loss = tf.reduce_mean(self.td_error)\n",
    "        self.trainer = tf.train.AdamOptimizer(learning_rate=0.0001)\n",
    "        self.updateModel = self.trainer.minimize(self.loss)\n",
    "        "
   ]
  },
  {
   "cell_type": "markdown",
   "metadata": {},
   "source": [
    "实现Experience Replay 策略"
   ]
  },
  {
   "cell_type": "code",
   "execution_count": 12,
   "metadata": {
    "collapsed": true
   },
   "outputs": [],
   "source": [
    "class experience_buffer():\n",
    "    def __init__(self, buffer_size=50000):\n",
    "        self.buffer = []\n",
    "        self.buffer_size = buffer_size\n",
    "    \n",
    "    def add(self, experience):\n",
    "        if len(self.buffer)+len(experience) >=self.buffer_size:\n",
    "            self.buffer[0:(len(self.buffer)+len(experience)-self.buffer_size)]=[]\n",
    "        self.buffer.extend(experience)\n",
    "        \n",
    "    def sample(self, size):\n",
    "        #print(\"size: \", size)\n",
    "        #print(self.buffer)\n",
    "        array = np.array(random.sample(self.buffer, size))\n",
    "        #print(array)       \n",
    "        \n",
    "        return np.reshape(array, [size, 5])\n"
   ]
  },
  {
   "cell_type": "code",
   "execution_count": 13,
   "metadata": {
    "collapsed": true
   },
   "outputs": [],
   "source": [
    "def processState(states):\n",
    "    return np.reshape(states, [21168])"
   ]
  },
  {
   "cell_type": "code",
   "execution_count": 14,
   "metadata": {
    "collapsed": false
   },
   "outputs": [],
   "source": [
    "def updateTargetGraph(tfVars, tau):\n",
    "    total_vars = len(tfVars)\n",
    "    #print(\"tfVars: \", type(tfVars))\n",
    "    #print(\"total_vars: \", total_vars)\n",
    "    op_holder = []\n",
    "    for idx, var in enumerate(tfVars[0:total_vars//2]):\n",
    "        op_holder.append(tfVars[idx+total_vars//2].assign((var.value()*tau) + ((1-tau)*tfVars[idx+total_vars//2].value())))\n",
    "    return op_holder\n",
    " \n",
    "def updateTarget(op_holder, sess):\n",
    "    for op in op_holder:\n",
    "        sess.run(op)"
   ]
  },
  {
   "cell_type": "markdown",
   "metadata": {},
   "source": [
    "训练参数"
   ]
  },
  {
   "cell_type": "code",
   "execution_count": 25,
   "metadata": {
    "collapsed": true
   },
   "outputs": [],
   "source": [
    "batch_size = 32\n",
    "update_freq = 4\n",
    "y = .99\n",
    "startE =  1\n",
    "endE = 0.1\n",
    "anneling_step = 100\n",
    "num_episodes = 10000\n",
    "pre_train_steps = 1000\n",
    "max_epLength = 50\n",
    "load_model = False\n",
    "path = \"./model\"\n",
    "h_size = 512\n",
    "tau = 0.001"
   ]
  },
  {
   "cell_type": "code",
   "execution_count": 26,
   "metadata": {
    "collapsed": false
   },
   "outputs": [
    {
     "name": "stdout",
     "output_type": "stream",
     "text": [
      "self.Qout  <class 'tensorflow.python.framework.ops.Tensor'> (?, 4)\n",
      "self.predict <class 'tensorflow.python.framework.ops.Tensor'> (?,)\n",
      "self.targetQ <class 'tensorflow.python.framework.ops.Tensor'> (?,)\n",
      "self.actions : <class 'tensorflow.python.framework.ops.Tensor'> (?,)\n",
      "self.actions_onehot <class 'tensorflow.python.framework.ops.Tensor'> (?, 4)\n",
      "self.Q <class 'tensorflow.python.framework.ops.Tensor'> (?,)\n",
      "self.Qout  <class 'tensorflow.python.framework.ops.Tensor'> (?, 4)\n",
      "self.predict <class 'tensorflow.python.framework.ops.Tensor'> (?,)\n",
      "self.targetQ <class 'tensorflow.python.framework.ops.Tensor'> (?,)\n",
      "self.actions : <class 'tensorflow.python.framework.ops.Tensor'> (?,)\n",
      "self.actions_onehot <class 'tensorflow.python.framework.ops.Tensor'> (?, 4)\n",
      "self.Q <class 'tensorflow.python.framework.ops.Tensor'> (?,)\n"
     ]
    }
   ],
   "source": [
    "tf.reset_default_graph()\n",
    "mainQN = Qnetwork(h_size)\n",
    "targetQN = Qnetwork(h_size)\n",
    "init = tf.global_variables_initializer()\n",
    "trainables = tf.trainable_variables()\n",
    "#print(len(trainables))"
   ]
  },
  {
   "cell_type": "code",
   "execution_count": 27,
   "metadata": {
    "collapsed": false
   },
   "outputs": [],
   "source": [
    "targetOps = updateTargetGraph(trainables, tau)"
   ]
  },
  {
   "cell_type": "code",
   "execution_count": 28,
   "metadata": {
    "collapsed": false
   },
   "outputs": [],
   "source": [
    "myBuffer = experience_buffer()\n",
    "e= startE\n",
    "stepDrop = (startE-endE)/anneling_step\n",
    "\n",
    "rList = []\n",
    "total_steps = 0\n",
    "saver = tf.train.Saver()\n",
    "if not os.path.exists(path):\n",
    "    os.makedirs(path)"
   ]
  },
  {
   "cell_type": "code",
   "execution_count": null,
   "metadata": {
    "collapsed": false,
    "scrolled": true
   },
   "outputs": [
    {
     "name": "stdout",
     "output_type": "stream",
     "text": [
      "episode 25 , average reward of last 25 episode  1.64\n",
      "episode 50 , average reward of last 25 episode  1.08\n",
      "episode 75 , average reward of last 25 episode  0.32\n",
      "episode 100 , average reward of last 25 episode  0.48\n",
      "episode 125 , average reward of last 25 episode  0.96\n",
      "episode 150 , average reward of last 25 episode  1.16\n",
      "episode 175 , average reward of last 25 episode  0.4\n",
      "episode 200 , average reward of last 25 episode  0.36\n",
      "episode 225 , average reward of last 25 episode  0.64\n",
      "episode 250 , average reward of last 25 episode  0.4\n",
      "episode 275 , average reward of last 25 episode  0.96\n",
      "episode 300 , average reward of last 25 episode  0.16\n",
      "episode 325 , average reward of last 25 episode  0.84\n",
      "episode 350 , average reward of last 25 episode  0.84\n",
      "episode 375 , average reward of last 25 episode  0.52\n",
      "episode 400 , average reward of last 25 episode  -0.08\n",
      "episode 425 , average reward of last 25 episode  0.6\n",
      "episode 450 , average reward of last 25 episode  0.52\n",
      "episode 475 , average reward of last 25 episode  0.76\n",
      "episode 500 , average reward of last 25 episode  1.28\n",
      "episode 525 , average reward of last 25 episode  1.12\n",
      "episode 550 , average reward of last 25 episode  0.72\n",
      "episode 575 , average reward of last 25 episode  0.64\n",
      "episode 600 , average reward of last 25 episode  1.24\n",
      "episode 625 , average reward of last 25 episode  1.2\n",
      "episode 650 , average reward of last 25 episode  0.8\n",
      "episode 675 , average reward of last 25 episode  1.2\n",
      "episode 700 , average reward of last 25 episode  0.68\n",
      "episode 725 , average reward of last 25 episode  0.84\n",
      "episode 750 , average reward of last 25 episode  1.6\n",
      "episode 775 , average reward of last 25 episode  0.76\n",
      "episode 800 , average reward of last 25 episode  1.32\n",
      "episode 825 , average reward of last 25 episode  0.96\n",
      "episode 850 , average reward of last 25 episode  1.0\n",
      "episode 875 , average reward of last 25 episode  1.24\n",
      "episode 900 , average reward of last 25 episode  1.08\n",
      "episode 925 , average reward of last 25 episode  0.4\n",
      "episode 950 , average reward of last 25 episode  0.68\n",
      "episode 975 , average reward of last 25 episode  1.36\n",
      "episode 1000 , average reward of last 25 episode  0.92\n",
      "saved model\n",
      "episode 1025 , average reward of last 25 episode  1.68\n",
      "episode 1050 , average reward of last 25 episode  1.72\n",
      "episode 1075 , average reward of last 25 episode  1.04\n",
      "episode 1100 , average reward of last 25 episode  1.24\n",
      "episode 1125 , average reward of last 25 episode  1.56\n",
      "episode 1150 , average reward of last 25 episode  1.8\n",
      "episode 1175 , average reward of last 25 episode  1.48\n",
      "episode 1200 , average reward of last 25 episode  1.16\n",
      "episode 1225 , average reward of last 25 episode  1.48\n",
      "episode 1250 , average reward of last 25 episode  1.48\n",
      "episode 1275 , average reward of last 25 episode  2.2\n",
      "episode 1300 , average reward of last 25 episode  2.36\n",
      "episode 1325 , average reward of last 25 episode  1.84\n",
      "episode 1350 , average reward of last 25 episode  2.0\n",
      "episode 1375 , average reward of last 25 episode  1.88\n",
      "episode 1400 , average reward of last 25 episode  1.84\n",
      "episode 1425 , average reward of last 25 episode  1.88\n",
      "episode 1450 , average reward of last 25 episode  2.44\n",
      "episode 1475 , average reward of last 25 episode  2.36\n",
      "episode 1500 , average reward of last 25 episode  2.96\n",
      "episode 1525 , average reward of last 25 episode  2.2\n",
      "episode 1550 , average reward of last 25 episode  3.28\n",
      "episode 1575 , average reward of last 25 episode  3.2\n",
      "episode 1600 , average reward of last 25 episode  2.56\n",
      "episode 1625 , average reward of last 25 episode  3.64\n",
      "episode 1650 , average reward of last 25 episode  3.32\n",
      "episode 1675 , average reward of last 25 episode  7.0\n",
      "episode 1700 , average reward of last 25 episode  4.52\n",
      "episode 1725 , average reward of last 25 episode  6.0\n",
      "episode 1750 , average reward of last 25 episode  4.88\n",
      "episode 1775 , average reward of last 25 episode  5.04\n",
      "episode 1800 , average reward of last 25 episode  6.8\n"
     ]
    }
   ],
   "source": [
    "with tf.Session() as sess:\n",
    "    sess.run(init)\n",
    "    if load_model == True:\n",
    "        print(\"Loading Model...\")\n",
    "        ckpt = tf.train.get_checkpoint_state(path)\n",
    "        saver.restore(sess, ckpt.model_checkpoint_path)\n",
    "   \n",
    "    updateTarget(targetOps, sess)\n",
    "    for i in range(num_episodes+1):\n",
    "        episodeBuffer = experience_buffer()\n",
    "        s = env.reset()\n",
    "        s = processState(s)\n",
    "        d = False\n",
    "        rAll = 0\n",
    "        j = 0\n",
    "        \n",
    "        while j< max_epLength:\n",
    "            j += 1\n",
    "            if np.random.rand(1) <e or total_steps<pre_train_steps:\n",
    "                a = np.random.randint(0, 4)\n",
    "            else:\n",
    "                a = sess.run(mainQN.predict, feed_dict={mainQN.scalarInput:[s]})[0]\n",
    "                \n",
    "            s1, r,d = env.step(a)\n",
    "            s1 = processState(s1)\n",
    "            total_steps +=1\n",
    "            episodeBuffer.add(np.reshape(np.array([s,a,r,s1,d]), [1,5]))\n",
    "            \n",
    "            if total_steps > pre_train_steps:\n",
    "                if e > endE:\n",
    "                    e -=stepDrop\n",
    "                if total_steps%(update_freq)==0 :\n",
    "                \n",
    "                    trainBatch = myBuffer.sample(batch_size)\n",
    "                    #print(\"trainBatch:\", type(trainBatch),trainBatch.shape, trainBatch[:,4]-1)\n",
    "                    A = sess.run(mainQN.predict, feed_dict={mainQN.scalarInput:np.vstack(trainBatch[:,3])})\n",
    "                    Q = sess.run(targetQN.Qout,feed_dict={targetQN.scalarInput:np.vstack(trainBatch[:,3])})\n",
    "                    doubleQ = Q[range(batch_size), A]\n",
    "                    #print(\"A\", type(A),A.shape, A)\n",
    "                    #print(\"Q\", type(Q), A.shape, Q)\n",
    "                    #print(\"doubleQ\",len(doubleQ),  doubleQ)\n",
    "                    end_multiplier = -(trainBatch[:,4] -1)\n",
    "                    targetQ = trainBatch[:,2]+ (y*doubleQ*end_multiplier)\n",
    "                    _ = sess.run(mainQN.updateModel, feed_dict={mainQN.scalarInput:np.vstack(trainBatch[:,0]), \n",
    "                                                            mainQN.targetQ: targetQ,\n",
    "                                                            mainQN.actions:trainBatch[:,1]})\n",
    "                    updateTarget(targetOps, sess)\n",
    "                \n",
    "            rAll +=r\n",
    "            s =s1\n",
    "            if d==True:\n",
    "                break\n",
    "        myBuffer.add(episodeBuffer.buffer)\n",
    "        rList.append(rAll)\n",
    "        if i>0 and i%25 ==0:\n",
    "            print(\"episode\", i, \", average reward of last 25 episode \", np.mean(rList[-25:]))\n",
    "        if i>0 and i%1000 == 0:\n",
    "            saver.save(sess, path+'/model-'+str(i)+'.cptk')\n",
    "            print(\"saved model\")\n",
    "    saver.save(sess, path+'/model-' + str(i)+'.cptk')"
   ]
  },
  {
   "cell_type": "code",
   "execution_count": 14,
   "metadata": {
    "collapsed": false
   },
   "outputs": [
    {
     "data": {
      "text/plain": [
       "[<matplotlib.lines.Line2D at 0x7f5ed2259748>]"
      ]
     },
     "execution_count": 14,
     "metadata": {},
     "output_type": "execute_result"
    },
    {
     "data": {
      "image/png": "[encoded data removed]",
      "text/plain": [
       "<matplotlib.figure.Figure at 0x7f5ef4934f28>"
      ]
     },
     "metadata": {},
     "output_type": "display_data"
    }
   ],
   "source": [
    "rMat = np.resize(np.array(rList),[len(rList)//100,100])\n",
    "rMean = np.average(rMat,1)\n",
    "plt.plot(rMean)"
   ]
  },
  {
   "cell_type": "code",
   "execution_count": null,
   "metadata": {
    "collapsed": true
   },
   "outputs": [],
   "source": []
  }
 ],
 "metadata": {
  "kernelspec": {
   "display_name": "Python 3",
   "language": "python",
   "name": "python3"
  },
  "language_info": {
   "codemirror_mode": {
    "name": "ipython",
    "version": 3
   },
   "file_extension": ".py",
   "mimetype": "text/x-python",
   "name": "python",
   "nbconvert_exporter": "python",
   "pygments_lexer": "ipython3",
   "version": "3.5.2"
  }
 },
 "nbformat": 4,
 "nbformat_minor": 2
}
