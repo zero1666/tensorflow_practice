{
 "cells": [
  {
   "cell_type": "markdown",
   "metadata": {},
   "source": [
    "# 策略网络"
   ]
  },
  {
   "cell_type": "code",
   "execution_count": 1,
   "metadata": {
    "collapsed": false
   },
   "outputs": [],
   "source": [
    "import numpy as np\n",
    "import tensorflow as tf\n",
    "import gym\n"
   ]
  },
  {
   "cell_type": "code",
   "execution_count": null,
   "metadata": {
    "collapsed": false
   },
   "outputs": [
    {
     "name": "stderr",
     "output_type": "stream",
     "text": [
      "[2017-05-06 17:13:18,819] Making new env: CartPole-v0\n"
     ]
    }
   ],
   "source": [
    "env = gym.make('CartPole-v0')"
   ]
  },
  {
   "cell_type": "markdown",
   "metadata": {},
   "source": [
    "随机实验测试gym"
   ]
  },
  {
   "cell_type": "code",
   "execution_count": null,
   "metadata": {
    "collapsed": false,
    "scrolled": true
   },
   "outputs": [],
   "source": [
    "env.reset()\n",
    "random_episodes = 0\n",
    "reward_sum = 0\n",
    "\n",
    "while random_episodes < 10:\n",
    "    env.render()\n",
    "    observation, reward, done, _ = env.step(np.random.randint(0, 2) )\n",
    "    reward_sum += reward\n",
    "    if done:\n",
    "        random_episodes += 1\n",
    "        print(\"Reward for this episode was: \",reward_sum)\n",
    "        reward_sum = 0\n",
    "        env.reset()"
   ]
  },
  {
   "cell_type": "markdown",
   "metadata": {},
   "source": [
    "shutdown the window showing the simulation, using env.close()"
   ]
  },
  {
   "cell_type": "code",
   "execution_count": null,
   "metadata": {
    "collapsed": true
   },
   "outputs": [],
   "source": [
    "env.close() "
   ]
  },
  {
   "cell_type": "markdown",
   "metadata": {},
   "source": [
    "### 策略网络"
   ]
  },
  {
   "cell_type": "code",
   "execution_count": null,
   "metadata": {
    "collapsed": true
   },
   "outputs": [],
   "source": [
    "H = 50\n",
    "batch_size = 25\n",
    "learning_rate = 1e-1\n",
    "D = 4 # 环境的维度\n",
    "gamma = 0.99 # reward 的打折比例\n"
   ]
  },
  {
   "cell_type": "markdown",
   "metadata": {},
   "source": [
    "定义策略网络的具体结构"
   ]
  },
  {
   "cell_type": "code",
   "execution_count": null,
   "metadata": {
    "collapsed": false
   },
   "outputs": [],
   "source": [
    "observations =  tf.placeholder(tf.float32, [None, D],  name=\"input_x\")\n",
    "W1 = tf.get_variable(\"W1\", shape=[D, H], initializer=tf.contrib.layers.xavier_initializer())\n",
    "layer1 = tf.nn.relu(tf.matmul(observations, W1))\n",
    "W2 = tf.get_variable(\"W2\", shape=[H,1], initializer=tf.contrib.layers.xavier_initializer())\n",
    "score = tf.matmul(layer1, W2)\n",
    "probability = tf.nn.sigmoid(score)"
   ]
  },
  {
   "cell_type": "code",
   "execution_count": null,
   "metadata": {
    "collapsed": false
   },
   "outputs": [],
   "source": [
    "\n",
    "adam = tf.train.AdamOptimizer(learning_rate=learning_rate)\n",
    "W1Grad = tf.placeholder(tf.float32, name=\"batch_grad1\")\n",
    "W2Grad = tf.placeholder(tf.float32, name=\"batch_grad2\")\n",
    "batchGrad = [W1Grad, W2Grad]\n",
    "\n",
    "input_y = tf.placeholder(tf.float32, [None, 1], name=\"input_y\")\n",
    "advantages = tf.placeholder(tf.float32, name=\"reward_signal\")\n",
    "loglik = tf.log(input_y*(input_y - probability) + (1-input_y)*(input_y + probability))\n",
    "loss = -tf.reduce_mean(loglik*advantages)\n",
    "tvars = tf.trainable_variables()\n",
    "newGrads = tf.gradients(loss, tvars)\n",
    "updateGrads = adam.apply_gradients(zip(batchGrad, tvars))"
   ]
  },
  {
   "cell_type": "code",
   "execution_count": null,
   "metadata": {
    "collapsed": true
   },
   "outputs": [],
   "source": [
    "def discount_rewards(r):\n",
    "    #print(\"r\", type(r), r.shape,r.dtype)\n",
    "    discounted_r = np.zeros_like(r)\n",
    "    #print(\"discounted_r\", type(discounted_r), discounted_r.shape,discounted_r.dtype)\n",
    "    running_add = 0\n",
    "    for t in reversed(range(r.size)):\n",
    "        running_add = running_add*gamma + r[t]\n",
    "        discounted_r[t] = running_add\n",
    "    return discounted_r"
   ]
  },
  {
   "cell_type": "code",
   "execution_count": null,
   "metadata": {
    "collapsed": true
   },
   "outputs": [],
   "source": [
    "xs, ys, drs = [], [], []\n",
    "reward_sum = 0\n",
    "episode_number = 1\n",
    "total_episodes = 10000"
   ]
  },
  {
   "cell_type": "code",
   "execution_count": null,
   "metadata": {
    "collapsed": false,
    "scrolled": true
   },
   "outputs": [],
   "source": [
    "with tf.Session() as sess:\n",
    "    rendering= False\n",
    "    init= tf.global_variables_initializer()\n",
    "    sess.run(init)\n",
    "    \n",
    "    observation = env.reset()\n",
    "    gradBuffer = sess.run(tvars)\n",
    "    for ix, grad  in enumerate(gradBuffer):\n",
    "        gradBuffer[ix] = grad*0\n",
    "\n",
    "    while episode_number <= total_episodes:\n",
    "        if reward_sum/batch_size > 150 or rendering == True:\n",
    "            env.render()\n",
    "            rendering = True\n",
    "        x = np.reshape(observation, [1, D])\n",
    "        x = x.astype(np.float32)\n",
    "        tfprob = sess.run(probability, feed_dict={observations: x})        \n",
    "        action = 1 if np.random.uniform() < tfprob else 0\n",
    "        xs.append(x)\n",
    "        y=1-action\n",
    "        ys.append(y)\n",
    "        \n",
    "        observation, reward, done, info = env.step(action)\n",
    "        \n",
    "        reward_sum += reward\n",
    "        drs.append(reward)\n",
    "        if done:\n",
    "            episode_number += 1\n",
    "            epx = np.vstack(xs)\n",
    "            epy = np.vstack(ys)\n",
    "            epr = np.vstack(drs)\n",
    "            xs, ys, drs = [],[], []\n",
    "            #print(\"episode:\", episode_number, \"reward_sum\", reward_sum)\n",
    "            \n",
    "            discounted_epr = discount_rewards(epr)\n",
    "            #print(\"epr\", epr)\n",
    "            discounted_epr -= np.mean(discounted_epr)\n",
    "            discounted_epr /= np.std(discounted_epr)\n",
    "            tGrad = sess.run(newGrads, feed_dict={observations:epx, input_y:epy, advantages:discounted_epr})\n",
    "            for ix, grad in enumerate(tGrad):\n",
    "                gradBuffer[ix] +=grad\n",
    "                \n",
    "            if episode_number %batch_size == 0:\n",
    "                sess.run(updateGrads, feed_dict={W1Grad:gradBuffer[0], W2Grad:gradBuffer[1]})\n",
    "                for ix, grad in enumerate(gradBuffer):\n",
    "                    gradBuffer[ix] = grad*0\n",
    "                print('Average reward for episode %d : %f.'%(episode_number, reward_sum/batch_size))\n",
    "                \n",
    "                if reward_sum/batch_size >= 200:\n",
    "                    print(\"Task solved in\", episode_number, 'episodes!')\n",
    "                    break\n",
    "                reward_sum = 0                \n",
    "            observation = env.reset()\n",
    "        \n",
    "        \n"
   ]
  },
  {
   "cell_type": "code",
   "execution_count": null,
   "metadata": {
    "collapsed": false
   },
   "outputs": [],
   "source": [
    "env.close()"
   ]
  },
  {
   "cell_type": "code",
   "execution_count": null,
   "metadata": {
    "collapsed": true
   },
   "outputs": [],
   "source": []
  }
 ],
 "metadata": {
  "kernelspec": {
   "display_name": "Python 3",
   "language": "python",
   "name": "python3"
  },
  "language_info": {
   "codemirror_mode": {
    "name": "ipython",
    "version": 3
   },
   "file_extension": ".py",
   "mimetype": "text/x-python",
   "name": "python",
   "nbconvert_exporter": "python",
   "pygments_lexer": "ipython3",
   "version": "3.5.2"
  }
 },
 "nbformat": 4,
 "nbformat_minor": 2
}
