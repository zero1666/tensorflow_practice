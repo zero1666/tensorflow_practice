{
 "cells": [
  {
   "cell_type": "markdown",
   "metadata": {},
   "source": [
    "# AlexNet 实现与测试"
   ]
  },
  {
   "cell_type": "code",
   "execution_count": 1,
   "metadata": {
    "collapsed": true
   },
   "outputs": [],
   "source": [
    "from datetime import datetime\n",
    "import tensorflow as tf\n",
    "import math\n",
    "import time"
   ]
  },
  {
   "cell_type": "code",
   "execution_count": 2,
   "metadata": {
    "collapsed": true
   },
   "outputs": [],
   "source": [
    "batch_size =32\n",
    "num_batches = 100"
   ]
  },
  {
   "cell_type": "code",
   "execution_count": 4,
   "metadata": {
    "collapsed": false
   },
   "outputs": [],
   "source": [
    "def print_activation(t):\n",
    "    print(t.op.name, ' ', t.get_shape().as_list())"
   ]
  },
  {
   "cell_type": "code",
   "execution_count": 31,
   "metadata": {
    "collapsed": true
   },
   "outputs": [],
   "source": [
    "def inference(images):\n",
    "    parameters = []\n",
    "    with tf.name_scope('conv1') as scope:\n",
    "        kernel = tf.Variable(tf.truncated_normal([11, 11, 3, 64], dtype=tf.float32, stddev=1e-1), name='weights')\n",
    "        conv = tf.nn.conv2d(images, kernel, [1, 4, 4, 1], padding='SAME')\n",
    "        biases = tf.Variable(tf.constant(0.0, shape=[64], dtype=tf.float32), name='biases')\n",
    "        conv1 = tf.nn.relu(tf.nn.bias_add(conv, biases), name=scope)\n",
    "        parameters +=[kernel, biases]\n",
    "        print_activation(conv1)\n",
    "    lrn1 = tf.nn.lrn(conv1, 4, bias=1.0,  alpha=0.001/9, beta=0.75, name='lrn1')\n",
    "    pool1 = tf.nn.max_pool(lrn1, ksize=[1,3,3,1], strides=[1,2,2,1], padding='VALID', name='pool1')\n",
    "    print_activation(pool1)\n",
    "    \n",
    "    with tf.name_scope('conv2') as scope:\n",
    "        kernel = tf.Variable(tf.truncated_normal([5, 5, 64, 192], dtype=tf.float32, stddev=1e-1), name='weights')\n",
    "        conv = tf.nn.conv2d(pool1, kernel, [1, 1, 1, 1], padding='SAME')\n",
    "        biases = tf.Variable(tf.constant(0.0, shape=[192], dtype=tf.float32), trainable= True, name='biases')\n",
    "        conv2 = tf.nn.relu(tf.nn.bias_add(conv, biases),  name=scope)\n",
    "        parameters +=[kernel, biases]\n",
    "        print_activation(conv2)\n",
    "    lrn2 = tf.nn.lrn(conv2, 4, bias=1.0,  alpha=0.001/9, beta=0.75, name='lrn2')\n",
    "    pool2 = tf.nn.max_pool(lrn2, ksize=[1,3,3,1], strides=[1,2,2,1], padding='VALID', name='pool2')\n",
    "    print_activation(pool2)\n",
    "    \n",
    "    with tf.name_scope('conv3') as scope:\n",
    "        kernel = tf.Variable(tf.truncated_normal([3, 3, 192, 384], dtype=tf.float32, stddev=1e-1), name='weights')\n",
    "        conv = tf.nn.conv2d(pool2, kernel, [1, 1, 1, 1], padding='SAME')\n",
    "        biases = tf.Variable(tf.constant(0.0, shape=[384], dtype=tf.float32), trainable= True, name='biases')\n",
    "        conv3 = tf.nn.relu(tf.nn.bias_add(conv, biases),  name=scope)\n",
    "        parameters +=[kernel, biases]\n",
    "        print_activation(conv3)\n",
    "        \n",
    "    with tf.name_scope('conv4') as scope:\n",
    "        kernel = tf.Variable(tf.truncated_normal([3, 3, 384, 256], dtype=tf.float32, stddev=1e-1), name='weights')\n",
    "        conv = tf.nn.conv2d(conv3, kernel, [1, 1, 1, 1], padding='SAME')\n",
    "        biases = tf.Variable(tf.constant(0.0, shape=[256], dtype=tf.float32), trainable= True, name='biases')\n",
    "        conv4 = tf.nn.relu(tf.nn.bias_add(conv, biases),  name=scope)\n",
    "        parameters +=[kernel, biases]\n",
    "        print_activation(conv4)\n",
    "\n",
    "    with tf.name_scope('conv5') as scope:\n",
    "        kernel = tf.Variable(tf.truncated_normal([3, 3, 256, 256], dtype=tf.float32, stddev=1e-1), name='weights')\n",
    "        conv = tf.nn.conv2d(conv4, kernel, [1, 1, 1, 1], padding='SAME')\n",
    "        biases = tf.Variable(tf.constant(0.0, shape=[256], dtype=tf.float32), trainable= True, name='biases')\n",
    "        conv5 = tf.nn.relu(tf.nn.bias_add(conv, biases),  name=scope)\n",
    "        parameters +=[kernel, biases]\n",
    "        print_activation(conv5)\n",
    "        \n",
    "    pool5 = tf.nn.max_pool(conv5, ksize=[1, 3, 3, 1], strides=[1, 2, 2, 1], padding='VALID', name='pool5')\n",
    "    print_activation(pool5)\n",
    "    return pool5, parameters\n",
    "        "
   ]
  },
  {
   "cell_type": "code",
   "execution_count": 32,
   "metadata": {
    "collapsed": true
   },
   "outputs": [],
   "source": [
    "# 评估每轮计算时间\n",
    "def time_tensorflow_run(session,  target, info_string):\n",
    "    num_steps_burn_in = 10\n",
    "    total_duration = 0.0\n",
    "    total_duration_squared = 0.0\n",
    "    \n",
    "    for i in range(num_batches + num_steps_burn_in):\n",
    "        start_time = time.time()\n",
    "        _ = session.run(target)\n",
    "        duration = time.time() - start_time\n",
    "        if i>=num_steps_burn_in:\n",
    "            if not i%10:\n",
    "                print('%s: step %d, duration = %.3f'%(datetime.now(), i-num_steps_burn_in, duration))\n",
    "            total_duration += duration\n",
    "            total_duration_squared += duration*duration\n",
    "        \n",
    "    mn = total_duration/num_batches\n",
    "    vr = total_duration_squared/num_batches - mn*mn\n",
    "    sd = math.sqrt(vr)\n",
    "    print('%s: %s across %d steps, %.3f +/- %.3f sec/batch'%(datetime.now(), info_string, num_batches, mn, sd))\n",
    "        "
   ]
  },
  {
   "cell_type": "code",
   "execution_count": 35,
   "metadata": {
    "collapsed": false
   },
   "outputs": [],
   "source": [
    "def  run_benchmark():\n",
    "    g = tf.Graph()\n",
    "    with g.as_default() :\n",
    "        image_size =  224\n",
    "        images = tf.Variable(tf.random_normal([batch_size, image_size, image_size, 3], dtype=tf.float32, stddev=1e-1))\n",
    "        pool5, parameters =  inference(images)\n",
    "        \n",
    "        init = tf.global_variables_initializer()\n",
    "        sess = tf.Session()\n",
    "        sess.run(init)\n",
    "        time_tensorflow_run(sess, pool5, \"Forward\")\n",
    "        \n",
    "        objective = tf.nn.l2_loss(pool5)\n",
    "        grad = tf.gradients(objective, parameters)\n",
    "        time_tensorflow_run(sess, grad, \"Forward-backward\")"
   ]
  },
  {
   "cell_type": "code",
   "execution_count": 36,
   "metadata": {
    "collapsed": false
   },
   "outputs": [
    {
     "name": "stdout",
     "output_type": "stream",
     "text": [
      "conv1   [32, 56, 56, 64]\n",
      "pool1   [32, 27, 27, 64]\n",
      "conv2   [32, 27, 27, 192]\n",
      "pool2   [32, 13, 13, 192]\n",
      "conv3   [32, 13, 13, 384]\n",
      "conv4   [32, 13, 13, 256]\n",
      "conv5   [32, 13, 13, 256]\n",
      "pool5   [32, 6, 6, 256]\n",
      "2017-03-25 12:34:50.704827: step 0, duration = 2.272\n",
      "2017-03-25 12:35:15.617357: step 10, duration = 2.343\n",
      "2017-03-25 12:35:40.375223: step 20, duration = 2.880\n",
      "2017-03-25 12:36:05.096959: step 30, duration = 3.531\n",
      "2017-03-25 12:36:31.346049: step 40, duration = 2.239\n",
      "2017-03-25 12:36:56.085065: step 50, duration = 2.365\n",
      "2017-03-25 12:37:20.550623: step 60, duration = 2.387\n",
      "2017-03-25 12:37:45.084371: step 70, duration = 2.382\n",
      "2017-03-25 12:38:11.976173: step 80, duration = 2.288\n",
      "2017-03-25 12:38:39.488005: step 90, duration = 2.624\n",
      "2017-03-25 12:39:02.711275: Forward across 100 steps, 2.543 +/- 0.325 sec/batch\n",
      "2017-03-25 12:40:40.625715: step 0, duration = 10.037\n",
      "2017-03-25 12:42:13.463385: step 10, duration = 9.842\n",
      "2017-03-25 12:43:40.918737: step 20, duration = 8.085\n",
      "2017-03-25 12:45:06.893981: step 30, duration = 8.476\n",
      "2017-03-25 12:46:42.889625: step 40, duration = 9.052\n",
      "2017-03-25 12:48:07.306256: step 50, duration = 10.071\n",
      "2017-03-25 12:49:33.277356: step 60, duration = 8.719\n",
      "2017-03-25 12:50:59.744801: step 70, duration = 8.530\n",
      "2017-03-25 12:52:25.439270: step 80, duration = 8.387\n",
      "2017-03-25 12:53:48.328837: step 90, duration = 8.171\n",
      "2017-03-25 12:55:04.852366: Forward-backward across 100 steps, 8.743 +/- 0.678 sec/batch\n"
     ]
    }
   ],
   "source": [
    "run_benchmark()"
   ]
  },
  {
   "cell_type": "code",
   "execution_count": null,
   "metadata": {
    "collapsed": true
   },
   "outputs": [],
   "source": []
  }
 ],
 "metadata": {
  "kernelspec": {
   "display_name": "Python 3",
   "language": "python",
   "name": "python3"
  },
  "language_info": {
   "codemirror_mode": {
    "name": "ipython",
    "version": 3
   },
   "file_extension": ".py",
   "mimetype": "text/x-python",
   "name": "python",
   "nbconvert_exporter": "python",
   "pygments_lexer": "ipython3",
   "version": "3.5.2"
  }
 },
 "nbformat": 4,
 "nbformat_minor": 2
}
