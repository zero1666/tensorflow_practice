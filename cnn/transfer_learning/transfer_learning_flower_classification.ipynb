{
 "cells": [
  {
   "cell_type": "markdown",
   "metadata": {},
   "source": [
    "# 迁移学习---使用google Inception-v3预训练模型实现花的分类"
   ]
  },
  {
   "cell_type": "markdown",
   "metadata": {},
   "source": [
    "## 1. 下载数据集"
   ]
  },
  {
   "cell_type": "markdown",
   "metadata": {},
   "source": [
    "```\n",
    "curl http://download.tensorflow.org/example_images/flower_photos.tgz\n",
    "tar xzf flower_photos.tgz\n",
    "```"
   ]
  },
  {
   "cell_type": "markdown",
   "metadata": {},
   "source": [
    "## 2.下载预训练的Inception-v3 模型"
   ]
  },
  {
   "cell_type": "markdown",
   "metadata": {},
   "source": [
    "```\n",
    "wget https://storage.googleapis.com/download.tensorflow.org/models/inception_dec_2015.zip\n",
    "unzip tensorflow/examples/label_image/data/inception_dec_2015.zip\n",
    "```"
   ]
  },
  {
   "cell_type": "markdown",
   "metadata": {},
   "source": [
    "## 3. 实现迁移学习代码"
   ]
  },
  {
   "cell_type": "code",
   "execution_count": 2,
   "metadata": {
    "collapsed": true
   },
   "outputs": [],
   "source": [
    "import glob\n",
    "import os.path\n",
    "import random\n",
    "import numpy as np\n",
    "import tensorflow as tf\n",
    "from tensorflow.python.platform import gfile"
   ]
  },
  {
   "cell_type": "code",
   "execution_count": 3,
   "metadata": {
    "collapsed": true
   },
   "outputs": [],
   "source": [
    "BOTTLENECK_TENSOR_SIZE = 2048\n",
    "BOTTLENECK_TENSOR_NAME = 'pool_3/_reshape:0'\n",
    "\n",
    "JPEG_DATA_TENSOR_NAME = 'DecodeJpeg/contents:0'\n",
    "\n",
    "#下载的Inception-v3 模型文件目录和模型文件名\n",
    "MODEL_DIR = '/path/to/model'\n",
    "MODEL_FILE = 'classify_image_graph_def.pb'\n",
    "\n",
    "CACHE_DIR = '/tmp/bottleneck'\n",
    "\n",
    "# 图片数据文件夹\n",
    "INPUT_DATA = '/path/to/flower_data'\n",
    "# 验证集和测试集的数据百分比\n",
    "VALIDATION_PERCENTAGE = 10\n",
    "TEST_PERCENTAGE = 10\n",
    "\n",
    "# 神经网络的设置\n",
    "LEARNING_RATE = 0.01\n",
    "STEPS = 4000\n",
    "BATCH = 100"
   ]
  },
  {
   "cell_type": "code",
   "execution_count": 4,
   "metadata": {
    "collapsed": true
   },
   "outputs": [],
   "source": [
    "# 从数据集中读取所有图片列表，并按train, validation, test 分开\n",
    "def create_image_lists(testing_percentage, validation_percentage):\n",
    "    result = {}\n",
    "    #获取当前目录下所有子目录\n",
    "    sub_dirs = [x[0] for x in os.walk(INPUT_DATA)]\n",
    "    print('sub_dirs', sub_dirs)\n",
    "    print('os_walk',os.walk(INPUT_DATA))\n",
    "    is_root_dir = True\n",
    "    for sub_dir in sub_dirs:\n",
    "        if is_root_dir:\n",
    "            is_root_dir = False\n",
    "            continue\n",
    "        # 获取当前目录下所有有效图片文件\n",
    "        extensions = ['jpg', 'jpeg', 'JPG','JPEG']\n",
    "        file_list =[]\n",
    "        dir_name = os.path.basename(sub_dir)\n",
    "        for extension in extensions:\n",
    "            file_glob =  os.path.join(INPUT_DATA, dir_name, '*.'+extension)\n",
    "            file_list.extend(glob.glob(file_glob))\n",
    "        if not file_list:\n",
    "            continue\n",
    "        \n",
    "        # 通过目录名获取类别名\n",
    "        label_name = dir_name.lower()\n",
    "        training_images = []\n",
    "        testing_images = []\n",
    "        validation_images = []\n",
    "        for file_name in file_list:\n",
    "            base_name= os.path.basename(file_name)\n",
    "            chance = np.random.randint(100)\n",
    "            if chance< validation_percentage:\n",
    "                validation_images.append(base_name)\n",
    "            elif chance<(validation_percentage+testing_percentage):\n",
    "                testing_images.append(base_name)\n",
    "            else:\n",
    "                training_images.append(base_name)\n",
    "                \n",
    "        result[label_name] = {\n",
    "            'dir': dir_name,\n",
    "            'training': training_images,\n",
    "            'testing': testing_images,\n",
    "            'validation': validation_images,\n",
    "        }\n",
    "    return result"
   ]
  },
  {
   "cell_type": "code",
   "execution_count": null,
   "metadata": {
    "collapsed": true
   },
   "outputs": [],
   "source": [
    "create_image_lists(TEST_PERCENTAGE, VALIDATION_PERCENTAGE)"
   ]
  },
  {
   "cell_type": "code",
   "execution_count": 5,
   "metadata": {
    "collapsed": true
   },
   "outputs": [],
   "source": [
    "#获取图片地址\n",
    "def get_image_path(image_lists, image_dir, label_name,index, category):\n",
    "    label_lists = image_lists[label_name]\n",
    "    category_list = label_lists[category]\n",
    "    mod_index = index%len(category_list)\\\n",
    "    # get image name\n",
    "    base_name = category_list[mod_index]\n",
    "    sub_dir = label_lists['dir']\n",
    "    full_path =os.path.join(image_dir, sub_dir, base_name)\n",
    "    return full_path"
   ]
  },
  {
   "cell_type": "code",
   "execution_count": null,
   "metadata": {
    "collapsed": true
   },
   "outputs": [],
   "source": []
  },
  {
   "cell_type": "code",
   "execution_count": 6,
   "metadata": {
    "collapsed": true
   },
   "outputs": [],
   "source": [
    "#获取 经Inception-v3 模型处理后的特征向量文件地址\n",
    "def get_bottleneck_path(image_lists, label_name, index, category):\n",
    "    return get_image_path(image_lists, CACHE_DIR, label_name, index, category) + '.txt'\n",
    "\n",
    "# 用Inception-v3模型处理一张图片，获得其特征向量\n",
    "def run_bottleneck_on_image(sess, image_data, image_data_tensor, bottleneck_tensor):\n",
    "    bottleneck_values = sess.run(bottleneck_tensor, {image_data_tensor:image_data})\n",
    "    print(bottleneck_values.shape)\n",
    "    bottleneck_values = np.squeeze(bottleneck_values)\n",
    "    return bottleneck_values\n"
   ]
  },
  {
   "cell_type": "code",
   "execution_count": 7,
   "metadata": {
    "collapsed": true
   },
   "outputs": [],
   "source": [
    "# 获得图片经过Inception-V3模型处理之后的特征向量\n",
    "def get_or_create_bottleneck(sess, image_lists, label_name, index, category, jpeg_data_tensor, bottleneck_tensor):\n",
    "    label_lists = image_lists[label_name]\n",
    "    sub_dir = label_lists['dir']\n",
    "    sub_dir_path = os.path.join(CACHE_DIR, sub_dir)\n",
    "    if not os.path.exists(sub_dir_path):\n",
    "        os.mkdirs(sub_dir_path)\n",
    "    bottleneck_path = get_bottleneck_path(image_lists, label_name, index, category)\n",
    "    \n",
    "    if not os.path.exists(bottleneck_path):\n",
    "        image_path = get_image_path(image_lists, INPUT_DATA, label_name, index, category)\n",
    "        # get image data\n",
    "        image_data = gfile.FastGFile(image_path, 'rb').read()\n",
    "        bottleneck_values = run_bottleneck_on_image(sess, image_data, jpeg_data_tensor, bottleneck_tensor)\n",
    "        bottleneck_string = ','.join(str(x) for x in bottleneck_values)\n",
    "        with open(bottleneck_path, 'w') as bottleneck_file:\n",
    "            bottleneck_file.write(bottleneck_string)\n",
    "    else:\n",
    "        with open(bottleneck_path, 'r') as bottleneck_file:\n",
    "            bottleneck_string = bottleneck_file.read()\n",
    "        bottleneck_values = [float(x) for x in bottleneck_string.split(',')]\n",
    "        \n",
    "    return bottleneck_values"
   ]
  },
  {
   "cell_type": "code",
   "execution_count": null,
   "metadata": {
    "collapsed": true
   },
   "outputs": [],
   "source": []
  }
 ],
 "metadata": {
  "kernelspec": {
   "display_name": "Python 3",
   "language": "python",
   "name": "python3"
  },
  "language_info": {
   "codemirror_mode": {
    "name": "ipython",
    "version": 3
   },
   "file_extension": ".py",
   "mimetype": "text/x-python",
   "name": "python",
   "nbconvert_exporter": "python",
   "pygments_lexer": "ipython3",
   "version": "3.5.2"
  }
 },
 "nbformat": 4,
 "nbformat_minor": 2
}
